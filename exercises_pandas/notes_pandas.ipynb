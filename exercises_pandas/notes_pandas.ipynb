{
 "cells": [
  {
   "cell_type": "code",
   "execution_count": null,
   "metadata": {
    "collapsed": true
   },
   "outputs": [],
   "source": [
    "##########################\n",
    "## Pandas Notes\n",
    "##########################\n",
    "# Two types:\n",
    "# Series: 1-D labeled NumPy array\n",
    "#     -Subclass of numpy.ndarray\n",
    "#     -Data: any dtype\n",
    "#     -index labels need not be ordered\n",
    "#     -duplicates are possible (but result in reduced functionality)\n",
    "\n",
    "# DataFrame: 2D table with row and column labels, potentially heterogenous columns\n",
    "#     -ndarray-like, but not ndarray\n",
    "#     -each column can have a different dtype\n",
    "#     -row and column index\n",
    "#     -size mutable: insert and delete columns\n",
    "\n",
    "# Data Alignment:\n",
    "# Can add two data sets together and indexes that match will be operated if on:\n",
    "# \n",
    "# Hierarchical Indexes:\n",
    "# Semantics: a tuple at each tick\n",
    "# Enables easy group selection with prefix to index\n",
    "# Terminology: 'Multiple Levels'\n",
    "# Natural Part of GroupBy and reshape operations\n",
    "\n",
    "# GroupBy:\n",
    "# df.groupby([key1, key2], axis=0)\n",
    "# \n",
    "# where key1 and key2= functions, column names, or arrays\n",
    "# axis=0 for rows, 1 for columns (0 default)\n",
    "\n",
    "# In memory data tool (limited by local data), so difficult for big data projects"
   ]
  },
  {
   "cell_type": "code",
   "execution_count": null,
   "outputs": [],
   "source": [
    "from pandas import *\n",
    "import pandas as pd\n",
    "import numpy as np\n",
    "import matplotlib.pyplot as plt\n",
    "# ipython notebook --pylab=inline\n",
    "\n",
    "def side_by_side(*objs, **kwds):\n",
    "    from pd.core.common import adjoin\n",
    "    space = kwds.get('space', 4)\n",
    "    reprs = [repr(obj).split('\\n') for obj in objs]\n",
    "    print(adjoin(space, *reprs))\n",
    "\n",
    "df = DataFrame({'a': np.random.randn(6),\n",
    "                'b': ['foo', 'bar'] * 3,\n",
    "                'c': np.random.randn(6)})\n",
    "df['d'] = range(6)\n",
    "df"
   ],
   "metadata": {
    "collapsed": false,
    "pycharm": {
     "name": "#%%\n"
    }
   }
  }
 ],
 "metadata": {
  "kernelspec": {
   "display_name": "Python 3",
   "language": "python",
   "name": "python3"
  },
  "language_info": {
   "codemirror_mode": {
    "name": "ipython",
    "version": 2
   },
   "file_extension": ".py",
   "mimetype": "text/x-python",
   "name": "python",
   "nbconvert_exporter": "python",
   "pygments_lexer": "ipython2",
   "version": "2.7.6"
  },
  "pycharm": {
   "stem_cell": {
    "cell_type": "raw",
    "source": [],
    "metadata": {
     "collapsed": false
    }
   }
  }
 },
 "nbformat": 4,
 "nbformat_minor": 0
}