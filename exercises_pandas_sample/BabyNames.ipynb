{
 "cells": [
  {
   "cell_type": "code",
   "execution_count": 99,
   "outputs": [
    {
     "data": {
      "text/plain": "'0.25.3'"
     },
     "metadata": {},
     "output_type": "execute_result",
     "execution_count": 99
    }
   ],
   "source": [
    "from pandas import *\n",
    "pandas.set_option('display.max_rows', 500)\n",
    "pandas.set_option('display.notebook_repr_html', False)\n",
    "# set_printoptions(notebook_repr_html=False)  # turn off html, i.e., without table.\n",
    "# set_printoptions(max_rows=500)   # getting the summary of the view versus getting everything. Terminal takes time to buffer.\n",
    "import pandas\n",
    "pandas.__version__"
   ],
   "metadata": {
    "collapsed": false,
    "pycharm": {
     "name": "#%%\n",
     "is_executing": false
    }
   }
  },
  {
   "cell_type": "code",
   "execution_count": 100,
   "outputs": [],
   "source": [
    "names = read_csv('baby-names2.csv')"
   ],
   "metadata": {
    "collapsed": false,
    "pycharm": {
     "name": "#%%\n",
     "is_executing": false
    }
   }
  },
  {
   "cell_type": "code",
   "execution_count": 101,
   "outputs": [
    {
     "data": {
      "text/plain": "        year      name      prop   sex soundex\n0       1880      John  0.081541   boy    J500\n1       1880   William  0.080511   boy    W450\n2       1880     James  0.050057   boy    J520\n3       1880   Charles  0.045167   boy    C642\n4       1880    George  0.043292   boy    G620\n...      ...       ...       ...   ...     ...\n257995  2008  Carleigh  0.000128  girl    C642\n257996  2008     Iyana  0.000128  girl    I500\n257997  2008    Kenley  0.000127  girl    K540\n257998  2008    Sloane  0.000127  girl    S450\n257999  2008   Elianna  0.000127  girl    E450\n\n[258000 rows x 5 columns]"
     },
     "metadata": {},
     "output_type": "execute_result",
     "execution_count": 101
    }
   ],
   "source": [
    "names"
   ],
   "metadata": {
    "collapsed": false,
    "pycharm": {
     "name": "#%%\n",
     "is_executing": false
    }
   }
  },
  {
   "cell_type": "code",
   "execution_count": 102,
   "outputs": [
    {
     "data": {
      "text/plain": "   year     name      prop  sex soundex\n0  1880     John  0.081541  boy    J500\n1  1880  William  0.080511  boy    W450\n2  1880    James  0.050057  boy    J520\n3  1880  Charles  0.045167  boy    C642\n4  1880   George  0.043292  boy    G620"
     },
     "metadata": {},
     "output_type": "execute_result",
     "execution_count": 102
    }
   ],
   "source": [
    "names.head()"
   ],
   "metadata": {
    "collapsed": false,
    "pycharm": {
     "name": "#%%\n",
     "is_executing": false
    }
   }
  },
  {
   "cell_type": "code",
   "execution_count": 103,
   "outputs": [
    {
     "data": {
      "text/plain": "   year     name      prop  sex soundex\n0  1880     John  0.081541  boy    J500\n1  1880  William  0.080511  boy    W450\n2  1880    James  0.050057  boy    J520\n3  1880  Charles  0.045167  boy    C642\n4  1880   George  0.043292  boy    G620"
     },
     "metadata": {},
     "output_type": "execute_result",
     "execution_count": 103
    }
   ],
   "source": [
    "names[names.year == 1880].head()    "
   ],
   "metadata": {
    "collapsed": false,
    "pycharm": {
     "name": "#%%\n",
     "is_executing": false
    }
   }
  },
  {
   "cell_type": "code",
   "execution_count": 104,
   "outputs": [
    {
     "data": {
      "text/plain": "        year     name      prop   sex soundex\n129995  1880  Emaline  0.000041  girl    E545\n129996  1880    Ester  0.000041  girl    E236\n129997  1880    Eulah  0.000041  girl    E400\n129998  1880  Eulalie  0.000041  girl    E440\n129999  1880     Euna  0.000041  girl    E500"
     },
     "metadata": {},
     "output_type": "execute_result",
     "execution_count": 104
    }
   ],
   "source": [
    "names[names.year == 1880].tail()"
   ],
   "metadata": {
    "collapsed": false,
    "pycharm": {
     "name": "#%%\n",
     "is_executing": false
    }
   }
  },
  {
   "cell_type": "code",
   "execution_count": 105,
   "outputs": [],
   "source": [
    "boys = names[names.sex == 'boy']    # segment the data into boy and girl names. We have 2 dataframes now.\n",
    "girls = names[names.sex == 'girl']"
   ],
   "metadata": {
    "collapsed": false,
    "pycharm": {
     "name": "#%%\n",
     "is_executing": false
    }
   }
  },
  {
   "cell_type": "code",
   "execution_count": 106,
   "outputs": [
    {
     "data": {
      "text/plain": "<pandas.core.groupby.generic.DataFrameGroupBy object at 0x000002BAEA652EC8>"
     },
     "metadata": {},
     "output_type": "execute_result",
     "execution_count": 106
    }
   ],
   "source": [
    "boys.groupby('year')"
   ],
   "metadata": {
    "collapsed": false,
    "pycharm": {
     "name": "#%%\n",
     "is_executing": false
    }
   }
  },
  {
   "cell_type": "code",
   "execution_count": 107,
   "outputs": [
    {
     "data": {
      "text/plain": "year\n1880    1000\n1881    1000\n1882    1000\n1883    1000\n1884    1000\n1885    1000\n1886    1000\n1887    1000\n1888    1000\n1889    1000\n1890    1000\n1891    1000\n1892    1000\n1893    1000\n1894    1000\n1895    1000\n1896    1000\n1897    1000\n1898    1000\n1899    1000\n1900    1000\n1901    1000\n1902    1000\n1903    1000\n1904    1000\n1905    1000\n1906    1000\n1907    1000\n1908    1000\n1909    1000\n1910    1000\n1911    1000\n1912    1000\n1913    1000\n1914    1000\n1915    1000\n1916    1000\n1917    1000\n1918    1000\n1919    1000\n1920    1000\n1921    1000\n1922    1000\n1923    1000\n1924    1000\n1925    1000\n1926    1000\n1927    1000\n1928    1000\n1929    1000\n1930    1000\n1931    1000\n1932    1000\n1933    1000\n1934    1000\n1935    1000\n1936    1000\n1937    1000\n1938    1000\n1939    1000\n1940    1000\n1941    1000\n1942    1000\n1943    1000\n1944    1000\n1945    1000\n1946    1000\n1947    1000\n1948    1000\n1949    1000\n1950    1000\n1951    1000\n1952    1000\n1953    1000\n1954    1000\n1955    1000\n1956    1000\n1957    1000\n1958    1000\n1959    1000\n1960    1000\n1961    1000\n1962    1000\n1963    1000\n1964    1000\n1965    1000\n1966    1000\n1967    1000\n1968    1000\n1969    1000\n1970    1000\n1971    1000\n1972    1000\n1973    1000\n1974    1000\n1975    1000\n1976    1000\n1977    1000\n1978    1000\n1979    1000\n1980    1000\n1981    1000\n1982    1000\n1983    1000\n1984    1000\n1985    1000\n1986    1000\n1987    1000\n1988    1000\n1989    1000\n1990    1000\n1991    1000\n1992    1000\n1993    1000\n1994    1000\n1995    1000\n1996    1000\n1997    1000\n1998    1000\n1999    1000\n2000    1000\n2001    1000\n2002    1000\n2003    1000\n2004    1000\n2005    1000\n2006    1000\n2007    1000\n2008    1000\ndtype: int64"
     },
     "metadata": {},
     "output_type": "execute_result",
     "execution_count": 107
    }
   ],
   "source": [
    "#Shows number of records per year\n",
    "boys.groupby('year').size()"
   ],
   "metadata": {
    "collapsed": false,
    "pycharm": {
     "name": "#%%\n",
     "is_executing": false
    }
   }
  },
  {
   "cell_type": "code",
   "execution_count": 108,
   "outputs": [
    {
     "data": {
      "text/plain": "year  sex \n1880  boy     1000\n      girl    1000\n1881  boy     1000\n      girl    1000\n1882  boy     1000\n      girl    1000\n1883  boy     1000\n      girl    1000\n1884  boy     1000\n      girl    1000\n1885  boy     1000\n      girl    1000\n1886  boy     1000\n      girl    1000\n1887  boy     1000\n      girl    1000\n1888  boy     1000\n      girl    1000\n1889  boy     1000\n      girl    1000\n1890  boy     1000\n      girl    1000\n1891  boy     1000\n      girl    1000\n1892  boy     1000\n      girl    1000\n1893  boy     1000\n      girl    1000\n1894  boy     1000\n      girl    1000\n1895  boy     1000\n      girl    1000\n1896  boy     1000\n      girl    1000\n1897  boy     1000\n      girl    1000\n1898  boy     1000\n      girl    1000\n1899  boy     1000\n      girl    1000\n1900  boy     1000\n      girl    1000\n1901  boy     1000\n      girl    1000\n1902  boy     1000\n      girl    1000\n1903  boy     1000\n      girl    1000\n1904  boy     1000\n      girl    1000\n1905  boy     1000\n      girl    1000\n1906  boy     1000\n      girl    1000\n1907  boy     1000\n      girl    1000\n1908  boy     1000\n      girl    1000\n1909  boy     1000\n      girl    1000\n1910  boy     1000\n      girl    1000\n1911  boy     1000\n      girl    1000\n1912  boy     1000\n      girl    1000\n1913  boy     1000\n      girl    1000\n1914  boy     1000\n      girl    1000\n1915  boy     1000\n      girl    1000\n1916  boy     1000\n      girl    1000\n1917  boy     1000\n      girl    1000\n1918  boy     1000\n      girl    1000\n1919  boy     1000\n      girl    1000\n1920  boy     1000\n      girl    1000\n1921  boy     1000\n      girl    1000\n1922  boy     1000\n      girl    1000\n1923  boy     1000\n      girl    1000\n1924  boy     1000\n      girl    1000\n1925  boy     1000\n      girl    1000\n1926  boy     1000\n      girl    1000\n1927  boy     1000\n      girl    1000\n1928  boy     1000\n      girl    1000\n1929  boy     1000\n      girl    1000\n1930  boy     1000\n      girl    1000\n1931  boy     1000\n      girl    1000\n1932  boy     1000\n      girl    1000\n1933  boy     1000\n      girl    1000\n1934  boy     1000\n      girl    1000\n1935  boy     1000\n      girl    1000\n1936  boy     1000\n      girl    1000\n1937  boy     1000\n      girl    1000\n1938  boy     1000\n      girl    1000\n1939  boy     1000\n      girl    1000\n1940  boy     1000\n      girl    1000\n1941  boy     1000\n      girl    1000\n1942  boy     1000\n      girl    1000\n1943  boy     1000\n      girl    1000\n1944  boy     1000\n      girl    1000\n1945  boy     1000\n      girl    1000\n1946  boy     1000\n      girl    1000\n1947  boy     1000\n      girl    1000\n1948  boy     1000\n      girl    1000\n1949  boy     1000\n      girl    1000\n1950  boy     1000\n      girl    1000\n1951  boy     1000\n      girl    1000\n1952  boy     1000\n      girl    1000\n1953  boy     1000\n      girl    1000\n1954  boy     1000\n      girl    1000\n1955  boy     1000\n      girl    1000\n1956  boy     1000\n      girl    1000\n1957  boy     1000\n      girl    1000\n1958  boy     1000\n      girl    1000\n1959  boy     1000\n      girl    1000\n1960  boy     1000\n      girl    1000\n1961  boy     1000\n      girl    1000\n1962  boy     1000\n      girl    1000\n1963  boy     1000\n      girl    1000\n1964  boy     1000\n      girl    1000\n1965  boy     1000\n      girl    1000\n1966  boy     1000\n      girl    1000\n1967  boy     1000\n      girl    1000\n1968  boy     1000\n      girl    1000\n1969  boy     1000\n      girl    1000\n1970  boy     1000\n      girl    1000\n1971  boy     1000\n      girl    1000\n1972  boy     1000\n      girl    1000\n1973  boy     1000\n      girl    1000\n1974  boy     1000\n      girl    1000\n1975  boy     1000\n      girl    1000\n1976  boy     1000\n      girl    1000\n1977  boy     1000\n      girl    1000\n1978  boy     1000\n      girl    1000\n1979  boy     1000\n      girl    1000\n1980  boy     1000\n      girl    1000\n1981  boy     1000\n      girl    1000\n1982  boy     1000\n      girl    1000\n1983  boy     1000\n      girl    1000\n1984  boy     1000\n      girl    1000\n1985  boy     1000\n      girl    1000\n1986  boy     1000\n      girl    1000\n1987  boy     1000\n      girl    1000\n1988  boy     1000\n      girl    1000\n1989  boy     1000\n      girl    1000\n1990  boy     1000\n      girl    1000\n1991  boy     1000\n      girl    1000\n1992  boy     1000\n      girl    1000\n1993  boy     1000\n      girl    1000\n1994  boy     1000\n      girl    1000\n1995  boy     1000\n      girl    1000\n1996  boy     1000\n      girl    1000\n1997  boy     1000\n      girl    1000\n1998  boy     1000\n      girl    1000\n1999  boy     1000\n      girl    1000\n2000  boy     1000\n      girl    1000\n2001  boy     1000\n      girl    1000\n2002  boy     1000\n      girl    1000\n2003  boy     1000\n      girl    1000\n2004  boy     1000\n      girl    1000\n2005  boy     1000\n      girl    1000\n2006  boy     1000\n      girl    1000\n2007  boy     1000\n      girl    1000\n2008  boy     1000\n      girl    1000\ndtype: int64"
     },
     "metadata": {},
     "output_type": "execute_result",
     "execution_count": 108
    }
   ],
   "source": [
    "#Shows number of records per year for boys and girls, this is a hierarchical index\n",
    "names.groupby(['year', 'sex']).size()"
   ],
   "metadata": {
    "collapsed": false,
    "pycharm": {
     "name": "#%%\n",
     "is_executing": false
    }
   }
  },
  {
   "cell_type": "code",
   "execution_count": 109,
   "outputs": [
    {
     "data": {
      "text/plain": "pandas.core.series.Series"
     },
     "metadata": {},
     "output_type": "execute_result",
     "execution_count": 109
    }
   ],
   "source": [
    "type(names.groupby(['year', 'sex']).size())"
   ],
   "metadata": {
    "collapsed": false,
    "pycharm": {
     "name": "#%%\n",
     "is_executing": false
    }
   }
  },
  {
   "cell_type": "code",
   "execution_count": 110,
   "outputs": [
    {
     "name": "stderr",
     "text": [
      "D:\\Users\\cduon\\Anaconda3\\lib\\site-packages\\ipykernel_launcher.py:1: FutureWarning: \n",
      ".ix is deprecated. Please use\n",
      ".loc for label based indexing or\n",
      ".iloc for positional indexing\n",
      "\n",
      "See the documentation here:\n",
      "http://pandas.pydata.org/pandas-docs/stable/user_guide/indexing.html#ix-indexer-is-deprecated\n",
      "  \"\"\"Entry point for launching an IPython kernel.\n"
     ],
     "output_type": "stream"
    },
    {
     "data": {
      "text/plain": "sex\nboy     1000\ngirl    1000\ndtype: int64"
     },
     "metadata": {},
     "output_type": "execute_result",
     "execution_count": 110
    }
   ],
   "source": [
    "names.groupby(['year', 'sex']).size().ix[2000]    # select out by year: 2001, 2002. Only show the inner key."
   ],
   "metadata": {
    "collapsed": false,
    "pycharm": {
     "name": "#%%\n",
     "is_executing": false
    }
   }
  },
  {
   "cell_type": "code",
   "execution_count": 111,
   "outputs": [
    {
     "data": {
      "text/plain": "        year         name      prop  sex soundex\n120000  2000        Jacob  0.016514  boy    J210\n120001  2000      Michael  0.015346  boy    M240\n120002  2000      Matthew  0.013695  boy    M300\n120003  2000       Joshua  0.013194  boy    J200\n120004  2000  Christopher  0.011990  boy    C623\n...      ...          ...       ...  ...     ...\n120995  2000        Dayne  0.000071  boy    D500\n120996  2000    Francesco  0.000071  boy    F652\n120997  2000        Isaak  0.000071  boy    I220\n120998  2000       Lionel  0.000071  boy    L540\n120999  2000        Tracy  0.000071  boy    T620\n\n[1000 rows x 5 columns]"
     },
     "metadata": {},
     "output_type": "execute_result",
     "execution_count": 111
    }
   ],
   "source": [
    "boys[boys.year == 2000]   # We would like to find out most popular boy names for each year."
   ],
   "metadata": {
    "collapsed": false,
    "pycharm": {
     "name": "#%%\n",
     "is_executing": false
    }
   }
  },
  {
   "cell_type": "code",
   "execution_count": 112,
   "outputs": [
    {
     "data": {
      "text/plain": "120000    0.016514\n120001    0.015346\n120002    0.013695\n120003    0.013194\n120004    0.011990\n            ...   \n120995    0.000071\n120996    0.000071\n120997    0.000071\n120998    0.000071\n120999    0.000071\nName: prop, Length: 1000, dtype: float64"
     },
     "metadata": {},
     "output_type": "execute_result",
     "execution_count": 112
    }
   ],
   "source": [
    "boys[boys.year == 2000].prop"
   ],
   "metadata": {
    "collapsed": false,
    "pycharm": {
     "name": "#%%\n",
     "is_executing": false
    }
   }
  },
  {
   "cell_type": "code",
   "execution_count": 113,
   "outputs": [
    {
     "data": {
      "text/plain": "        year         name      prop  sex soundex\n120000  2000        Jacob  0.016514  boy    J210\n120001  2000      Michael  0.015346  boy    M240\n120002  2000      Matthew  0.013695  boy    M300\n120003  2000       Joshua  0.013194  boy    J200\n120004  2000  Christopher  0.011990  boy    C623"
     },
     "metadata": {},
     "output_type": "execute_result",
     "execution_count": 113
    }
   ],
   "source": [
    "boys[boys.year == 2000][:5]"
   ],
   "metadata": {
    "collapsed": false,
    "pycharm": {
     "name": "#%%\n",
     "is_executing": false
    }
   }
  },
  {
   "cell_type": "code",
   "execution_count": 114,
   "outputs": [
    {
     "data": {
      "text/plain": "120000"
     },
     "metadata": {},
     "output_type": "execute_result",
     "execution_count": 114
    }
   ],
   "source": [
    "boys[boys.year == 2000].prop.idxmax()"
   ],
   "metadata": {
    "collapsed": false,
    "pycharm": {
     "name": "#%%\n",
     "is_executing": false
    }
   }
  },
  {
   "cell_type": "code",
   "execution_count": 115,
   "outputs": [
    {
     "name": "stderr",
     "text": [
      "D:\\Users\\cduon\\Anaconda3\\lib\\site-packages\\ipykernel_launcher.py:1: FutureWarning: \n",
      ".ix is deprecated. Please use\n",
      ".loc for label based indexing or\n",
      ".iloc for positional indexing\n",
      "\n",
      "See the documentation here:\n",
      "http://pandas.pydata.org/pandas-docs/stable/user_guide/indexing.html#ix-indexer-is-deprecated\n",
      "  \"\"\"Entry point for launching an IPython kernel.\n"
     ],
     "output_type": "stream"
    },
    {
     "data": {
      "text/plain": "year           2000\nname          Jacob\nprop       0.016514\nsex             boy\nsoundex        J210\nName: 120000, dtype: object"
     },
     "metadata": {},
     "output_type": "execute_result",
     "execution_count": 115
    }
   ],
   "source": [
    "boys.ix[boys[boys.year == 2000].prop.idxmax()]  # to get the whole row."
   ],
   "metadata": {
    "collapsed": false,
    "pycharm": {
     "name": "#%%\n",
     "is_executing": false
    }
   }
  },
  {
   "cell_type": "code",
   "execution_count": 116,
   "outputs": [
    {
     "name": "stderr",
     "text": [
      "D:\\Users\\cduon\\Anaconda3\\lib\\site-packages\\ipykernel_launcher.py:2: FutureWarning: \n",
      ".ix is deprecated. Please use\n",
      ".loc for label based indexing or\n",
      ".iloc for positional indexing\n",
      "\n",
      "See the documentation here:\n",
      "http://pandas.pydata.org/pandas-docs/stable/user_guide/indexing.html#ix-indexer-is-deprecated\n",
      "  \n"
     ],
     "output_type": "stream"
    },
    {
     "data": {
      "text/plain": "year           1880\nname           John\nprop       0.081541\nsex             boy\nsoundex        J500\nName: 0, dtype: object"
     },
     "metadata": {},
     "output_type": "execute_result",
     "execution_count": 116
    }
   ],
   "source": [
    "def get_max_record(group):\n",
    "    return group.ix[group.prop.idxmax()]\n",
    "\n",
    "get_max_record(boys)"
   ],
   "metadata": {
    "collapsed": false,
    "pycharm": {
     "name": "#%%\n",
     "is_executing": false
    }
   }
  },
  {
   "cell_type": "code",
   "execution_count": 117,
   "outputs": [
    {
     "name": "stderr",
     "text": [
      "D:\\Users\\cduon\\Anaconda3\\lib\\site-packages\\ipykernel_launcher.py:2: FutureWarning: \n",
      ".ix is deprecated. Please use\n",
      ".loc for label based indexing or\n",
      ".iloc for positional indexing\n",
      "\n",
      "See the documentation here:\n",
      "http://pandas.pydata.org/pandas-docs/stable/user_guide/indexing.html#ix-indexer-is-deprecated\n",
      "  \n"
     ],
     "output_type": "stream"
    }
   ],
   "source": [
    "def get_max_record(group):\n",
    "    return group.ix[group.prop.idxmax()]\n",
    "\n",
    "result = boys.groupby('year').apply(get_max_record)"
   ],
   "metadata": {
    "collapsed": false,
    "pycharm": {
     "name": "#%%\n",
     "is_executing": false
    }
   }
  },
  {
   "cell_type": "code",
   "execution_count": 118,
   "outputs": [
    {
     "data": {
      "text/plain": "      year     name      prop  sex soundex\nyear                                      \n1880  1880     John  0.081541  boy    J500\n1881  1881     John  0.080975  boy    J500\n1882  1882     John  0.078314  boy    J500\n1883  1883     John  0.079066  boy    J500\n1884  1884     John  0.076476  boy    J500\n1885  1885     John  0.075517  boy    J500\n1886  1886     John  0.075820  boy    J500\n1887  1887     John  0.074181  boy    J500\n1888  1888     John  0.071186  boy    J500\n1889  1889     John  0.071804  boy    J500\n1890  1890     John  0.071034  boy    J500\n1891  1891     John  0.070292  boy    J500\n1892  1892     John  0.068759  boy    J500\n1893  1893     John  0.066495  boy    J500\n1894  1894     John  0.065961  boy    J500\n1895  1895     John  0.065699  boy    J500\n1896  1896     John  0.063051  boy    J500\n1897  1897     John  0.061907  boy    J500\n1898  1898     John  0.061770  boy    J500\n1899  1899     John  0.060674  boy    J500\n1900  1900     John  0.060619  boy    J500\n1901  1901     John  0.059677  boy    J500\n1902  1902     John  0.059568  boy    J500\n1903  1903     John  0.058833  boy    J500\n1904  1904     John  0.058535  boy    J500\n1905  1905     John  0.056266  boy    J500\n1906  1906     John  0.057359  boy    J500\n1907  1907     John  0.056635  boy    J500\n1908  1908     John  0.056150  boy    J500\n1909  1909     John  0.054234  boy    J500\n1910  1910     John  0.054914  boy    J500\n1911  1911     John  0.055709  boy    J500\n1912  1912     John  0.054465  boy    J500\n1913  1913     John  0.054678  boy    J500\n1914  1914     John  0.055531  boy    J500\n1915  1915     John  0.054005  boy    J500\n1916  1916     John  0.054202  boy    J500\n1917  1917     John  0.054062  boy    J500\n1918  1918     John  0.053923  boy    J500\n1919  1919     John  0.052724  boy    J500\n1920  1920     John  0.051710  boy    J500\n1921  1921     John  0.051160  boy    J500\n1922  1922     John  0.050889  boy    J500\n1923  1923     John  0.050741  boy    J500\n1924  1924   Robert  0.052025  boy    R163\n1925  1925   Robert  0.052875  boy    R163\n1926  1926   Robert  0.053366  boy    R163\n1927  1927   Robert  0.053075  boy    R163\n1928  1928   Robert  0.053177  boy    R163\n1929  1929   Robert  0.054029  boy    R163\n1930  1930   Robert  0.055021  boy    R163\n1931  1931   Robert  0.056598  boy    R163\n1932  1932   Robert  0.055166  boy    R163\n1933  1933   Robert  0.053140  boy    R163\n1934  1934   Robert  0.052583  boy    R163\n1935  1935   Robert  0.052852  boy    R163\n1936  1936   Robert  0.054959  boy    R163\n1937  1937   Robert  0.056541  boy    R163\n1938  1938   Robert  0.054806  boy    R163\n1939  1939   Robert  0.052645  boy    R163\n1940  1940    James  0.052662  boy    J520\n1941  1941    James  0.053182  boy    J520\n1942  1942    James  0.054812  boy    J520\n1943  1943    James  0.055183  boy    J520\n1944  1944    James  0.055406  boy    J520\n1945  1945    James  0.054288  boy    J520\n1946  1946    James  0.052999  boy    J520\n1947  1947    James  0.050987  boy    J520\n1948  1948    James  0.049697  boy    J520\n1949  1949    James  0.048244  boy    J520\n1950  1950    James  0.047336  boy    J520\n1951  1951    James  0.045662  boy    J520\n1952  1952    James  0.044132  boy    J520\n1953  1953   Robert  0.043059  boy    R163\n1954  1954  Michael  0.042792  boy    M240\n1955  1955  Michael  0.042293  boy    M240\n1956  1956  Michael  0.042244  boy    M240\n1957  1957  Michael  0.042392  boy    M240\n1958  1958  Michael  0.042029  boy    M240\n1959  1959  Michael  0.039381  boy    M240\n1960  1960    David  0.039669  boy    D130\n1961  1961  Michael  0.040331  boy    M240\n1962  1962  Michael  0.040453  boy    M240\n1963  1963  Michael  0.040569  boy    M240\n1964  1964  Michael  0.040776  boy    M240\n1965  1965  Michael  0.042762  boy    M240\n1966  1966  Michael  0.043997  boy    M240\n1967  1967  Michael  0.046329  boy    M240\n1968  1968  Michael  0.046184  boy    M240\n1969  1969  Michael  0.046564  boy    M240\n1970  1970  Michael  0.044784  boy    M240\n1971  1971  Michael  0.042687  boy    M240\n1972  1972  Michael  0.042659  boy    M240\n1973  1973  Michael  0.042049  boy    M240\n1974  1974  Michael  0.041444  boy    M240\n1975  1975  Michael  0.042178  boy    M240\n1976  1976  Michael  0.041012  boy    M240\n1977  1977  Michael  0.039554  boy    M240\n1978  1978  Michael  0.039308  boy    M240\n1979  1979  Michael  0.037823  boy    M240\n1980  1980  Michael  0.037039  boy    M240\n1981  1981  Michael  0.036931  boy    M240\n1982  1982  Michael  0.036157  boy    M240\n1983  1983  Michael  0.036506  boy    M240\n1984  1984  Michael  0.036117  boy    M240\n1985  1985  Michael  0.033745  boy    M240\n1986  1986  Michael  0.033429  boy    M240\n1987  1987  Michael  0.032652  boy    M240\n1988  1988  Michael  0.032053  boy    M240\n1989  1989  Michael  0.031213  boy    M240\n1990  1990  Michael  0.030358  boy    M240\n1991  1991  Michael  0.028698  boy    M240\n1992  1992  Michael  0.025914  boy    M240\n1993  1993  Michael  0.024010  boy    M240\n1994  1994  Michael  0.021831  boy    M240\n1995  1995  Michael  0.020594  boy    M240\n1996  1996  Michael  0.019156  boy    M240\n1997  1997  Michael  0.018805  boy    M240\n1998  1998  Michael  0.018066  boy    M240\n1999  1999    Jacob  0.017346  boy    J210\n2000  2000    Jacob  0.016514  boy    J210\n2001  2001    Jacob  0.015734  boy    J210\n2002  2002    Jacob  0.014792  boy    J210\n2003  2003    Jacob  0.014104  boy    J210\n2004  2004    Jacob  0.013196  boy    J210\n2005  2005    Jacob  0.012148  boy    J210\n2006  2006    Jacob  0.011331  boy    J210\n2007  2007    Jacob  0.010948  boy    J210\n2008  2008    Jacob  0.010355  boy    J210"
     },
     "metadata": {},
     "output_type": "execute_result",
     "execution_count": 118
    }
   ],
   "source": [
    "result   # the popularity of a certain name goes down over time."
   ],
   "metadata": {
    "collapsed": false,
    "pycharm": {
     "name": "#%%\n",
     "is_executing": false
    }
   }
  },
  {
   "cell_type": "code",
   "execution_count": 119,
   "outputs": [
    {
     "data": {
      "text/plain": "<matplotlib.axes._subplots.AxesSubplot at 0x2baea64fc88>"
     },
     "metadata": {},
     "output_type": "execute_result",
     "execution_count": 119
    },
    {
     "data": {
      "text/plain": "<Figure size 432x288 with 1 Axes>",
      "image/png": "[encoded data removed]"
     },
     "metadata": {
      "needs_background": "light"
     },
     "output_type": "display_data"
    }
   ],
   "source": [
    "result.prop.plot()"
   ],
   "metadata": {
    "collapsed": false,
    "pycharm": {
     "name": "#%%\n",
     "is_executing": false
    }
   }
  },
  {
   "cell_type": "code",
   "execution_count": 120,
   "outputs": [
    {
     "data": {
      "text/plain": "        year    name      prop  sex soundex\n563     1880  Travis  0.000101  boy    T612\n2648    1882  Travis  0.000082  boy    T612\n3672    1883  Travis  0.000080  boy    T612\n4656    1884  Travis  0.000081  boy    T612\n5602    1885  Travis  0.000095  boy    T612\n6598    1886  Travis  0.000092  boy    T612\n9871    1889  Travis  0.000059  boy    T612\n10733   1890  Travis  0.000075  boy    T612\n11696   1891  Travis  0.000082  boy    T612\n12593   1892  Travis  0.000099  boy    T612\n13831   1893  Travis  0.000066  boy    T612\n14849   1894  Travis  0.000064  boy    T612\n15735   1895  Travis  0.000079  boy    T612\n16774   1896  Travis  0.000077  boy    T612\n17645   1897  Travis  0.000098  boy    T612\n18991   1898  Travis  0.000053  boy    T612\n19658   1899  Travis  0.000095  boy    T612\n20442   1900  Travis  0.000166  boy    T612\n22552   1902  Travis  0.000121  boy    T612\n23778   1903  Travis  0.000077  boy    T612\n24510   1904  Travis  0.000137  boy    T612\n25505   1905  Travis  0.000147  boy    T612\n26587   1906  Travis  0.000118  boy    T612\n27535   1907  Travis  0.000132  boy    T612\n28512   1908  Travis  0.000150  boy    T612\n29451   1909  Travis  0.000181  boy    T612\n30510   1910  Travis  0.000149  boy    T612\n31467   1911  Travis  0.000166  boy    T612\n32448   1912  Travis  0.000171  boy    T612\n33413   1913  Travis  0.000203  boy    T612\n34388   1914  Travis  0.000220  boy    T612\n35426   1915  Travis  0.000182  boy    T612\n36404   1916  Travis  0.000204  boy    T612\n37393   1917  Travis  0.000215  boy    T612\n38381   1918  Travis  0.000233  boy    T612\n39384   1919  Travis  0.000228  boy    T612\n40385   1920  Travis  0.000218  boy    T612\n41383   1921  Travis  0.000219  boy    T612\n42374   1922  Travis  0.000231  boy    T612\n43385   1923  Travis  0.000209  boy    T612\n44382   1924  Travis  0.000210  boy    T612\n45388   1925  Travis  0.000208  boy    T612\n46404   1926  Travis  0.000191  boy    T612\n47364   1927  Travis  0.000220  boy    T612\n48371   1928  Travis  0.000214  boy    T612\n49338   1929  Travis  0.000246  boy    T612\n50360   1930  Travis  0.000225  boy    T612\n51325   1931  Travis  0.000266  boy    T612\n52329   1932  Travis  0.000260  boy    T612\n53311   1933  Travis  0.000290  boy    T612\n54281   1934  Travis  0.000344  boy    T612\n55292   1935  Travis  0.000324  boy    T612\n56295   1936  Travis  0.000314  boy    T612\n57300   1937  Travis  0.000293  boy    T612\n58290   1938  Travis  0.000312  boy    T612\n59295   1939  Travis  0.000312  boy    T612\n60294   1940  Travis  0.000299  boy    T612\n61309   1941  Travis  0.000278  boy    T612\n62319   1942  Travis  0.000256  boy    T612\n63347   1943  Travis  0.000216  boy    T612\n64330   1944  Travis  0.000240  boy    T612\n65342   1945  Travis  0.000225  boy    T612\n66318   1946  Travis  0.000246  boy    T612\n67337   1947  Travis  0.000218  boy    T612\n68347   1948  Travis  0.000211  boy    T612\n69349   1949  Travis  0.000207  boy    T612\n70343   1950  Travis  0.000211  boy    T612\n71353   1951  Travis  0.000197  boy    T612\n72356   1952  Travis  0.000184  boy    T612\n73355   1953  Travis  0.000189  boy    T612\n74370   1954  Travis  0.000176  boy    T612\n75380   1955  Travis  0.000171  boy    T612\n76384   1956  Travis  0.000177  boy    T612\n77409   1957  Travis  0.000164  boy    T612\n78371   1958  Travis  0.000201  boy    T612\n79346   1959  Travis  0.000233  boy    T612\n80327   1960  Travis  0.000256  boy    T612\n81323   1961  Travis  0.000271  boy    T612\n82301   1962  Travis  0.000312  boy    T612\n83257   1963  Travis  0.000430  boy    T612\n84234   1964  Travis  0.000507  boy    T612\n85221   1965  Travis  0.000568  boy    T612\n86187   1966  Travis  0.000718  boy    T612\n87165   1967  Travis  0.000902  boy    T612\n88140   1968  Travis  0.001162  boy    T612\n89112   1969  Travis  0.001567  boy    T612\n90068   1970  Travis  0.002270  boy    T612\n91060   1971  Travis  0.002762  boy    T612\n92056   1972  Travis  0.003068  boy    T612\n93052   1973  Travis  0.003637  boy    T612\n94053   1974  Travis  0.003496  boy    T612\n95050   1975  Travis  0.003674  boy    T612\n96045   1976  Travis  0.004188  boy    T612\n97043   1977  Travis  0.004259  boy    T612\n98045   1978  Travis  0.004072  boy    T612\n99035   1979  Travis  0.006169  boy    T612\n100036  1980  Travis  0.005808  boy    T612\n101039  1981  Travis  0.005435  boy    T612\n102038  1982  Travis  0.005525  boy    T612\n103040  1983  Travis  0.005627  boy    T612\n104041  1984  Travis  0.005461  boy    T612\n105045  1985  Travis  0.004725  boy    T612\n106048  1986  Travis  0.004416  boy    T612\n107041  1987  Travis  0.005335  boy    T612\n108040  1988  Travis  0.005711  boy    T612\n109040  1989  Travis  0.005500  boy    T612\n110041  1990  Travis  0.005325  boy    T612\n111043  1991  Travis  0.004786  boy    T612\n112047  1992  Travis  0.004239  boy    T612\n113049  1993  Travis  0.003845  boy    T612\n114052  1994  Travis  0.003338  boy    T612\n115065  1995  Travis  0.002788  boy    T612\n116072  1996  Travis  0.002576  boy    T612\n117080  1997  Travis  0.002346  boy    T612\n118097  1998  Travis  0.001937  boy    T612\n119101  1999  Travis  0.001770  boy    T612\n120114  2000  Travis  0.001576  boy    T612\n121133  2001  Travis  0.001424  boy    T612\n122143  2002  Travis  0.001306  boy    T612\n123158  2003  Travis  0.001209  boy    T612\n124165  2004  Travis  0.001164  boy    T612\n125173  2005  Travis  0.001114  boy    T612\n126162  2006  Travis  0.001186  boy    T612\n127169  2007  Travis  0.001087  boy    T612\n128176  2008  Travis  0.001025  boy    T612"
     },
     "metadata": {},
     "output_type": "execute_result",
     "execution_count": 120
    }
   ],
   "source": [
    "boys[boys.name == 'Travis']"
   ],
   "metadata": {
    "collapsed": false,
    "pycharm": {
     "name": "#%%\n",
     "is_executing": false
    }
   }
  },
  {
   "cell_type": "code",
   "execution_count": 121,
   "outputs": [],
   "source": [
    "idf = boys.set_index(['name', 'year'])   # pull out the indexes, and move them to the row."
   ],
   "metadata": {
    "collapsed": false,
    "pycharm": {
     "name": "#%%\n",
     "is_executing": false
    }
   }
  },
  {
   "cell_type": "code",
   "execution_count": 122,
   "outputs": [
    {
     "data": {
      "text/plain": "                    prop  sex soundex\nname      year                       \nReilly    2008  0.000097  boy    R400\nSheldon   2008  0.000097  boy    S435\nAbdullah  2008  0.000097  boy    A134\nJagger    2008  0.000097  boy    J260\nThaddeus  2008  0.000097  boy    T320\nCase      2008  0.000096  boy    C200\nKyson     2008  0.000096  boy    K250\nLamont    2008  0.000096  boy    L553\nChaz      2008  0.000096  boy    C200\nMakhi     2008  0.000096  boy    M200\nJan       2008  0.000095  boy    J500\nMarques   2008  0.000095  boy    M622\nOswaldo   2008  0.000095  boy    O243\nDonavan   2008  0.000095  boy    D515\nKeyon     2008  0.000095  boy    K500\nKyan      2008  0.000095  boy    K500\nSimeon    2008  0.000095  boy    S550\nTrystan   2008  0.000095  boy    T623\nAndreas   2008  0.000094  boy    A536\nDangelo   2008  0.000094  boy    D524\nLandin    2008  0.000094  boy    L535\nReagan    2008  0.000094  boy    R250\nTurner    2008  0.000094  boy    T656\nArnav     2008  0.000094  boy    A651\nBrenton   2008  0.000094  boy    B653\nCallum    2008  0.000094  boy    C450\nJayvion   2008  0.000094  boy    J150\nBridger   2008  0.000093  boy    B632\nSammy     2008  0.000093  boy    S500\nDeegan    2008  0.000093  boy    D250\nJaylan    2008  0.000093  boy    J450\nLennon    2008  0.000093  boy    L550\nOdin      2008  0.000093  boy    O350\nAbdiel    2008  0.000092  boy    A134\nJerimiah  2008  0.000092  boy    J650\nEliezer   2008  0.000092  boy    E426\nBronson   2008  0.000091  boy    B652\nCornelius 2008  0.000091  boy    C654\nPierre    2008  0.000091  boy    P600\nCortez    2008  0.000091  boy    C632\nBaron     2008  0.000090  boy    B650\nCarlo     2008  0.000090  boy    C640\nCarsen    2008  0.000090  boy    C625\nFletcher  2008  0.000090  boy    F432\nIzayah    2008  0.000090  boy    I200\nKolten    2008  0.000090  boy    K435\nDamari    2008  0.000089  boy    D560\nHugh      2008  0.000089  boy    H200\nJensen    2008  0.000089  boy    J525\nYurem     2008  0.000089  boy    Y650"
     },
     "metadata": {},
     "output_type": "execute_result",
     "execution_count": 122
    }
   ],
   "source": [
    "idf[-50:]"
   ],
   "metadata": {
    "collapsed": false,
    "pycharm": {
     "name": "#%%\n",
     "is_executing": false
    }
   }
  },
  {
   "cell_type": "code",
   "execution_count": 123,
   "outputs": [
    {
     "name": "stderr",
     "text": [
      "D:\\Users\\cduon\\Anaconda3\\lib\\site-packages\\ipykernel_launcher.py:1: FutureWarning: \n",
      ".ix is deprecated. Please use\n",
      ".loc for label based indexing or\n",
      ".iloc for positional indexing\n",
      "\n",
      "See the documentation here:\n",
      "http://pandas.pydata.org/pandas-docs/stable/user_guide/indexing.html#ix-indexer-is-deprecated\n",
      "  \"\"\"Entry point for launching an IPython kernel.\n"
     ],
     "output_type": "stream"
    },
    {
     "data": {
      "text/plain": "          prop  sex soundex\nyear                       \n1880  0.000101  boy    T612\n1882  0.000082  boy    T612\n1883  0.000080  boy    T612\n1884  0.000081  boy    T612\n1885  0.000095  boy    T612\n1886  0.000092  boy    T612\n1889  0.000059  boy    T612\n1890  0.000075  boy    T612\n1891  0.000082  boy    T612\n1892  0.000099  boy    T612\n1893  0.000066  boy    T612\n1894  0.000064  boy    T612\n1895  0.000079  boy    T612\n1896  0.000077  boy    T612\n1897  0.000098  boy    T612\n1898  0.000053  boy    T612\n1899  0.000095  boy    T612\n1900  0.000166  boy    T612\n1902  0.000121  boy    T612\n1903  0.000077  boy    T612\n1904  0.000137  boy    T612\n1905  0.000147  boy    T612\n1906  0.000118  boy    T612\n1907  0.000132  boy    T612\n1908  0.000150  boy    T612\n1909  0.000181  boy    T612\n1910  0.000149  boy    T612\n1911  0.000166  boy    T612\n1912  0.000171  boy    T612\n1913  0.000203  boy    T612\n1914  0.000220  boy    T612\n1915  0.000182  boy    T612\n1916  0.000204  boy    T612\n1917  0.000215  boy    T612\n1918  0.000233  boy    T612\n1919  0.000228  boy    T612\n1920  0.000218  boy    T612\n1921  0.000219  boy    T612\n1922  0.000231  boy    T612\n1923  0.000209  boy    T612\n1924  0.000210  boy    T612\n1925  0.000208  boy    T612\n1926  0.000191  boy    T612\n1927  0.000220  boy    T612\n1928  0.000214  boy    T612\n1929  0.000246  boy    T612\n1930  0.000225  boy    T612\n1931  0.000266  boy    T612\n1932  0.000260  boy    T612\n1933  0.000290  boy    T612\n1934  0.000344  boy    T612\n1935  0.000324  boy    T612\n1936  0.000314  boy    T612\n1937  0.000293  boy    T612\n1938  0.000312  boy    T612\n1939  0.000312  boy    T612\n1940  0.000299  boy    T612\n1941  0.000278  boy    T612\n1942  0.000256  boy    T612\n1943  0.000216  boy    T612\n1944  0.000240  boy    T612\n1945  0.000225  boy    T612\n1946  0.000246  boy    T612\n1947  0.000218  boy    T612\n1948  0.000211  boy    T612\n1949  0.000207  boy    T612\n1950  0.000211  boy    T612\n1951  0.000197  boy    T612\n1952  0.000184  boy    T612\n1953  0.000189  boy    T612\n1954  0.000176  boy    T612\n1955  0.000171  boy    T612\n1956  0.000177  boy    T612\n1957  0.000164  boy    T612\n1958  0.000201  boy    T612\n1959  0.000233  boy    T612\n1960  0.000256  boy    T612\n1961  0.000271  boy    T612\n1962  0.000312  boy    T612\n1963  0.000430  boy    T612\n1964  0.000507  boy    T612\n1965  0.000568  boy    T612\n1966  0.000718  boy    T612\n1967  0.000902  boy    T612\n1968  0.001162  boy    T612\n1969  0.001567  boy    T612\n1970  0.002270  boy    T612\n1971  0.002762  boy    T612\n1972  0.003068  boy    T612\n1973  0.003637  boy    T612\n1974  0.003496  boy    T612\n1975  0.003674  boy    T612\n1976  0.004188  boy    T612\n1977  0.004259  boy    T612\n1978  0.004072  boy    T612\n1979  0.006169  boy    T612\n1980  0.005808  boy    T612\n1981  0.005435  boy    T612\n1982  0.005525  boy    T612\n1983  0.005627  boy    T612\n1984  0.005461  boy    T612\n1985  0.004725  boy    T612\n1986  0.004416  boy    T612\n1987  0.005335  boy    T612\n1988  0.005711  boy    T612\n1989  0.005500  boy    T612\n1990  0.005325  boy    T612\n1991  0.004786  boy    T612\n1992  0.004239  boy    T612\n1993  0.003845  boy    T612\n1994  0.003338  boy    T612\n1995  0.002788  boy    T612\n1996  0.002576  boy    T612\n1997  0.002346  boy    T612\n1998  0.001937  boy    T612\n1999  0.001770  boy    T612\n2000  0.001576  boy    T612\n2001  0.001424  boy    T612\n2002  0.001306  boy    T612\n2003  0.001209  boy    T612\n2004  0.001164  boy    T612\n2005  0.001114  boy    T612\n2006  0.001186  boy    T612\n2007  0.001087  boy    T612\n2008  0.001025  boy    T612"
     },
     "metadata": {},
     "output_type": "execute_result",
     "execution_count": 123
    }
   ],
   "source": [
    "idf.ix['Travis']"
   ],
   "metadata": {
    "collapsed": false,
    "pycharm": {
     "name": "#%%\n",
     "is_executing": false
    }
   }
  },
  {
   "cell_type": "code",
   "execution_count": 124,
   "outputs": [
    {
     "name": "stderr",
     "text": [
      "D:\\Users\\cduon\\Anaconda3\\lib\\site-packages\\ipykernel_launcher.py:1: FutureWarning: \n",
      ".ix is deprecated. Please use\n",
      ".loc for label based indexing or\n",
      ".iloc for positional indexing\n",
      "\n",
      "See the documentation here:\n",
      "http://pandas.pydata.org/pandas-docs/stable/user_guide/indexing.html#ix-indexer-is-deprecated\n",
      "  \"\"\"Entry point for launching an IPython kernel.\n"
     ],
     "output_type": "stream"
    },
    {
     "data": {
      "text/plain": "<matplotlib.axes._subplots.AxesSubplot at 0x2baea92f748>"
     },
     "metadata": {},
     "output_type": "execute_result",
     "execution_count": 124
    },
    {
     "data": {
      "text/plain": "<Figure size 432x288 with 1 Axes>",
      "image/png": "[encoded data removed]"
     },
     "metadata": {
      "needs_background": "light"
     },
     "output_type": "display_data"
    }
   ],
   "source": [
    "idf.ix['Travis'].prop.plot()"
   ],
   "metadata": {
    "collapsed": false,
    "pycharm": {
     "name": "#%%\n",
     "is_executing": false
    }
   }
  },
  {
   "cell_type": "code",
   "execution_count": 125,
   "outputs": [
    {
     "data": {
      "text/plain": "name\nAaden      0.000442\nAarav      0.000101\nAaron      0.002266\nAb         0.000044\nAbb        0.000046\n             ...   \nZenas      0.000052\nZeno       0.000071\nZigmund    0.000052\nZion       0.000490\nZollie     0.000060\nName: prop, Length: 3437, dtype: float64"
     },
     "metadata": {},
     "output_type": "execute_result",
     "execution_count": 125
    }
   ],
   "source": [
    "boys.groupby('name')['prop'].mean()"
   ],
   "metadata": {
    "collapsed": false,
    "pycharm": {
     "name": "#%%\n",
     "is_executing": false
    }
   }
  },
  {
   "cell_type": "code",
   "execution_count": 126,
   "outputs": [
    {
     "data": {
      "text/plain": "name\nKennard     0.000027\nDanniel     0.000027\nDeryl       0.000028\nGrayling    0.000028\nMichial     0.000028\n              ...   \nCharles     0.019521\nRobert      0.029625\nWilliam     0.034182\nJames       0.035465\nJohn        0.041082\nName: prop, Length: 3437, dtype: float64"
     },
     "metadata": {},
     "output_type": "execute_result",
     "execution_count": 126
    }
   ],
   "source": [
    "boys.groupby('name')['prop'].mean().sort_values()"
   ],
   "metadata": {
    "collapsed": false,
    "pycharm": {
     "name": "#%%\n",
     "is_executing": false
    }
   }
  },
  {
   "cell_type": "code",
   "execution_count": 127,
   "outputs": [
    {
     "data": {
      "text/plain": "count    129000.000000\nmean          0.000916\nstd           0.003441\nmin           0.000026\n25%           0.000071\n50%           0.000142\n75%           0.000453\nmax           0.081541\nName: prop, dtype: float64"
     },
     "metadata": {},
     "output_type": "execute_result",
     "execution_count": 127
    }
   ],
   "source": [
    "boys['prop'].describe()   # Getting the summary of statistics from the dataframe, based on proportion.e"
   ],
   "metadata": {
    "collapsed": false,
    "pycharm": {
     "name": "#%%\n",
     "is_executing": false
    }
   }
  },
  {
   "cell_type": "code",
   "execution_count": 128,
   "outputs": [],
   "source": [
    "result = boys.groupby('year')['prop'].describe()"
   ],
   "metadata": {
    "collapsed": false,
    "pycharm": {
     "name": "#%%\n",
     "is_executing": false
    }
   }
  },
  {
   "cell_type": "code",
   "execution_count": 129,
   "outputs": [
    {
     "data": {
      "text/plain": "       count      mean       std       min       25%       50%       75%  \\\nyear                                                                       \n1880  1000.0  0.000931  0.004871  0.000042  0.000059  0.000118  0.000372   \n1881  1000.0  0.000930  0.004812  0.000037  0.000065  0.000120  0.000369   \n1882  1000.0  0.000928  0.004691  0.000041  0.000066  0.000115  0.000377   \n1883  1000.0  0.000929  0.004675  0.000044  0.000062  0.000116  0.000382   \n1884  1000.0  0.000927  0.004542  0.000041  0.000065  0.000122  0.000385   \n1885  1000.0  0.000926  0.004459  0.000043  0.000069  0.000121  0.000373   \n1886  1000.0  0.000926  0.004447  0.000042  0.000067  0.000118  0.000397   \n1887  1000.0  0.000925  0.004380  0.000046  0.000073  0.000119  0.000366   \n1888  1000.0  0.000923  0.004294  0.000046  0.000069  0.000123  0.000379   \n1889  1000.0  0.000924  0.004260  0.000042  0.000067  0.000118  0.000355   \n1890  1000.0  0.000921  0.004191  0.000042  0.000067  0.000125  0.000384   \n1891  1000.0  0.000920  0.004126  0.000046  0.000073  0.000119  0.000368   \n1892  1000.0  0.000918  0.004059  0.000046  0.000068  0.000122  0.000382   \n1893  1000.0  0.000920  0.004022  0.000050  0.000074  0.000124  0.000413   \n1894  1000.0  0.000917  0.003951  0.000048  0.000072  0.000136  0.000384   \n1895  1000.0  0.000917  0.003925  0.000047  0.000071  0.000130  0.000405   \n1896  1000.0  0.000915  0.003875  0.000046  0.000077  0.000132  0.000411   \n1897  1000.0  0.000915  0.003856  0.000049  0.000074  0.000131  0.000402   \n1898  1000.0  0.000917  0.003828  0.000053  0.000068  0.000136  0.000378   \n1899  1000.0  0.000913  0.003728  0.000052  0.000078  0.000139  0.000384   \n1900  1000.0  0.000909  0.003749  0.000049  0.000074  0.000136  0.000409   \n1901  1000.0  0.000912  0.003664  0.000052  0.000078  0.000138  0.000415   \n1902  1000.0  0.000911  0.003651  0.000053  0.000075  0.000143  0.000414   \n1903  1000.0  0.000909  0.003606  0.000054  0.000077  0.000147  0.000433   \n1904  1000.0  0.000909  0.003565  0.000051  0.000079  0.000137  0.000419   \n1905  1000.0  0.000907  0.003496  0.000056  0.000077  0.000147  0.000421   \n1906  1000.0  0.000907  0.003513  0.000056  0.000083  0.000146  0.000430   \n1907  1000.0  0.000905  0.003461  0.000050  0.000082  0.000139  0.000448   \n1908  1000.0  0.000906  0.003469  0.000054  0.000078  0.000150  0.000427   \n1909  1000.0  0.000903  0.003423  0.000057  0.000085  0.000153  0.000447   \n1910  1000.0  0.000903  0.003427  0.000053  0.000082  0.000151  0.000446   \n1911  1000.0  0.000906  0.003451  0.000050  0.000079  0.000145  0.000433   \n1912  1000.0  0.000913  0.003421  0.000047  0.000075  0.000139  0.000442   \n1913  1000.0  0.000914  0.003433  0.000047  0.000073  0.000142  0.000420   \n1914  1000.0  0.000913  0.003455  0.000047  0.000073  0.000140  0.000428   \n1915  1000.0  0.000916  0.003440  0.000045  0.000073  0.000141  0.000409   \n1916  1000.0  0.000916  0.003462  0.000044  0.000073  0.000139  0.000429   \n1917  1000.0  0.000917  0.003490  0.000045  0.000072  0.000139  0.000423   \n1918  1000.0  0.000919  0.003509  0.000043  0.000071  0.000136  0.000429   \n1919  1000.0  0.000916  0.003506  0.000045  0.000072  0.000140  0.000438   \n1920  1000.0  0.000919  0.003590  0.000044  0.000070  0.000133  0.000441   \n1921  1000.0  0.000921  0.003614  0.000044  0.000069  0.000134  0.000438   \n1922  1000.0  0.000920  0.003630  0.000044  0.000069  0.000135  0.000447   \n1923  1000.0  0.000922  0.003670  0.000043  0.000068  0.000131  0.000445   \n1924  1000.0  0.000923  0.003706  0.000043  0.000068  0.000132  0.000452   \n1925  1000.0  0.000924  0.003723  0.000041  0.000067  0.000129  0.000449   \n1926  1000.0  0.000925  0.003722  0.000042  0.000064  0.000127  0.000433   \n1927  1000.0  0.000925  0.003714  0.000043  0.000065  0.000127  0.000443   \n1928  1000.0  0.000927  0.003702  0.000041  0.000065  0.000128  0.000443   \n1929  1000.0  0.000929  0.003735  0.000042  0.000065  0.000125  0.000447   \n\n           max  \nyear            \n1880  0.081541  \n1881  0.080975  \n1882  0.078314  \n1883  0.079066  \n1884  0.076476  \n1885  0.075517  \n1886  0.075820  \n1887  0.074181  \n1888  0.071186  \n1889  0.071804  \n1890  0.071034  \n1891  0.070292  \n1892  0.068759  \n1893  0.066495  \n1894  0.065961  \n1895  0.065699  \n1896  0.063051  \n1897  0.061907  \n1898  0.061770  \n1899  0.060674  \n1900  0.060619  \n1901  0.059677  \n1902  0.059568  \n1903  0.058833  \n1904  0.058535  \n1905  0.056266  \n1906  0.057359  \n1907  0.056635  \n1908  0.056150  \n1909  0.054234  \n1910  0.054914  \n1911  0.055709  \n1912  0.054465  \n1913  0.054678  \n1914  0.055531  \n1915  0.054005  \n1916  0.054202  \n1917  0.054062  \n1918  0.053923  \n1919  0.052724  \n1920  0.051710  \n1921  0.051160  \n1922  0.050889  \n1923  0.050741  \n1924  0.052025  \n1925  0.052875  \n1926  0.053366  \n1927  0.053075  \n1928  0.053177  \n1929  0.054029  "
     },
     "metadata": {},
     "output_type": "execute_result",
     "execution_count": 129
    }
   ],
   "source": [
    "result[:50]"
   ],
   "metadata": {
    "collapsed": false,
    "pycharm": {
     "name": "#%%\n",
     "is_executing": false
    }
   }
  },
  {
   "cell_type": "code",
   "execution_count": 130,
   "outputs": [],
   "source": [
    "df = boys[boys.year == 2008]"
   ],
   "metadata": {
    "collapsed": false,
    "pycharm": {
     "name": "#%%\n",
     "is_executing": false
    }
   }
  },
  {
   "cell_type": "code",
   "execution_count": 131,
   "outputs": [
    {
     "data": {
      "text/plain": "128000    0.010355\n128001    0.009437\n128002    0.009301\n128003    0.008799\n128004    0.008702\n            ...   \n128995    0.000090\n128996    0.000089\n128997    0.000089\n128998    0.000089\n128999    0.000089\nName: prop, Length: 1000, dtype: float64"
     },
     "metadata": {},
     "output_type": "execute_result",
     "execution_count": 131
    }
   ],
   "source": [
    "df.prop"
   ],
   "metadata": {
    "collapsed": false,
    "pycharm": {
     "name": "#%%\n",
     "is_executing": false
    }
   }
  },
  {
   "cell_type": "code",
   "execution_count": 132,
   "outputs": [
    {
     "name": "stderr",
     "text": [
      "D:\\Users\\cduon\\Anaconda3\\lib\\site-packages\\ipykernel_launcher.py:1: FutureWarning: by argument to sort_index is deprecated, please use .sort_values(by=...)\n",
      "  \"\"\"Entry point for launching an IPython kernel.\n"
     ],
     "output_type": "stream"
    }
   ],
   "source": [
    "df = boys[boys.year == 2008].sort_index(by='prop', ascending=False)   # If not in descending order. Can also do ascending=True for ascending."
   ],
   "metadata": {
    "collapsed": false,
    "pycharm": {
     "name": "#%%\n",
     "is_executing": false
    }
   }
  },
  {
   "cell_type": "code",
   "execution_count": 133,
   "outputs": [
    {
     "data": {
      "text/plain": "128000    0.010355\n128001    0.009437\n128002    0.009301\n128003    0.008799\n128004    0.008702\n            ...   \n128995    0.000090\n128996    0.000089\n128997    0.000089\n128998    0.000089\n128999    0.000089\nName: prop, Length: 1000, dtype: float64"
     },
     "metadata": {},
     "output_type": "execute_result",
     "execution_count": 133
    }
   ],
   "source": [
    "df.prop"
   ],
   "metadata": {
    "collapsed": false,
    "pycharm": {
     "name": "#%%\n",
     "is_executing": false
    }
   }
  },
  {
   "cell_type": "code",
   "execution_count": 134,
   "outputs": [
    {
     "data": {
      "text/plain": "128000    0.010355\n128001    0.019792\n128002    0.029093\n128003    0.037892\n128004    0.046594\n            ...   \n128995    0.795058\n128996    0.795147\n128997    0.795236\n128998    0.795325\n128999    0.795414\nName: prop, Length: 1000, dtype: float64"
     },
     "metadata": {},
     "output_type": "execute_result",
     "execution_count": 134
    }
   ],
   "source": [
    "df.prop.cumsum()   # numpy"
   ],
   "metadata": {
    "collapsed": false,
    "pycharm": {
     "name": "#%%\n",
     "is_executing": false
    }
   }
  },
  {
   "cell_type": "code",
   "execution_count": 135,
   "outputs": [
    {
     "data": {
      "text/plain": "127"
     },
     "metadata": {},
     "output_type": "execute_result",
     "execution_count": 135
    }
   ],
   "source": [
    "df.prop.cumsum().searchsorted(0.5)   # how many does it take to reach 50%. Also called a measure of diversity."
   ],
   "metadata": {
    "collapsed": false,
    "pycharm": {
     "name": "#%%\n",
     "is_executing": false
    }
   }
  },
  {
   "cell_type": "code",
   "execution_count": 136,
   "outputs": [
    {
     "data": {
      "text/plain": "128000    0.010355\n128001    0.019792\n128002    0.029093\n128003    0.037892\n128004    0.046594\n128005    0.055160\n128006    0.063602\n128007    0.072040\n128008    0.080308\n128009    0.088369\n128010    0.096246\n128011    0.103940\n128012    0.111510\n128013    0.118977\n128014    0.126239\n128015    0.133404\n128016    0.140356\n128017    0.147110\n128018    0.153482\n128019    0.159584\n128020    0.165669\n128021    0.171711\n128022    0.177696\n128023    0.183670\n128024    0.189600\n128025    0.195505\n128026    0.201343\n128027    0.207172\n128028    0.212924\n128029    0.218338\n128030    0.223717\n128031    0.229061\n128032    0.234334\n128033    0.239182\n128034    0.244003\n128035    0.248758\n128036    0.253340\n128037    0.257906\n128038    0.262453\n128039    0.266966\n128040    0.271479\n128041    0.275903\n128042    0.280226\n128043    0.284531\n128044    0.288831\n128045    0.293104\n128046    0.297326\n128047    0.301496\n128048    0.305538\n128049    0.309454\n128050    0.313330\n128051    0.317158\n128052    0.320967\n128053    0.324665\n128054    0.328339\n128055    0.331989\n128056    0.335588\n128057    0.339177\n128058    0.342724\n128059    0.346245\n128060    0.349669\n128061    0.353036\n128062    0.356375\n128063    0.359659\n128064    0.362908\n128065    0.366139\n128066    0.369359\n128067    0.372383\n128068    0.375391\n128069    0.378297\n128070    0.381182\n128071    0.383982\n128072    0.386771\n128073    0.389546\n128074    0.392286\n128075    0.395015\n128076    0.397694\n128077    0.400343\n128078    0.402992\n128079    0.405624\n128080    0.408225\n128081    0.410765\n128082    0.413265\n128083    0.415745\n128084    0.418224\n128085    0.420698\n128086    0.423111\n128087    0.425494\n128088    0.427855\n128089    0.430198\n128090    0.432527\n128091    0.434848\n128092    0.437132\n128093    0.439357\n128094    0.441551\n128095    0.443726\n128096    0.445889\n128097    0.447981\n128098    0.450050\n128099    0.452117\n128100    0.454156\n128101    0.456166\n128102    0.458152\n128103    0.460093\n128104    0.462009\n128105    0.463904\n128106    0.465773\n128107    0.467637\n128108    0.469478\n128109    0.471285\n128110    0.473029\n128111    0.474770\n128112    0.476492\n128113    0.478208\n128114    0.479911\n128115    0.481593\n128116    0.483275\n128117    0.484921\n128118    0.486563\n128119    0.488203\n128120    0.489818\n128121    0.491429\n128122    0.493032\n128123    0.494626\n128124    0.496173\n128125    0.497718\n128126    0.499243\n128127    0.500748\n128128    0.502243\n128129    0.503723\nName: prop, dtype: float64"
     },
     "metadata": {},
     "output_type": "execute_result",
     "execution_count": 136
    }
   ],
   "source": [
    "df.prop.cumsum()[:130]"
   ],
   "metadata": {
    "collapsed": false,
    "pycharm": {
     "name": "#%%\n",
     "is_executing": false
    }
   }
  },
  {
   "cell_type": "code",
   "execution_count": 137,
   "outputs": [
    {
     "name": "stderr",
     "text": [
      "D:\\Users\\cduon\\Anaconda3\\lib\\site-packages\\ipykernel_launcher.py:2: FutureWarning: by argument to sort_index is deprecated, please use .sort_values(by=...)\n",
      "  \n"
     ],
     "output_type": "stream"
    },
    {
     "data": {
      "text/plain": "<matplotlib.axes._subplots.AxesSubplot at 0x2baea652108>"
     },
     "metadata": {},
     "output_type": "execute_result",
     "execution_count": 137
    },
    {
     "data": {
      "text/plain": "<Figure size 432x288 with 1 Axes>",
      "image/png": "[encoded data removed]"
     },
     "metadata": {
      "needs_background": "light"
     },
     "output_type": "display_data"
    }
   ],
   "source": [
    "def get_quantile_count(group, quantile = 0.5):\n",
    "    df = group.sort_index(by='prop', ascending=False)\n",
    "    return df.prop.cumsum().searchsorted(quantile)\n",
    "\n",
    "boys.groupby('year').apply(get_quantile_count).plot()"
   ],
   "metadata": {
    "collapsed": false,
    "pycharm": {
     "name": "#%%\n",
     "is_executing": false
    }
   }
  },
  {
   "cell_type": "code",
   "execution_count": 138,
   "outputs": [],
   "source": [
    "# doesn't work rigth now, even after pip install soundex\n",
    "\n",
    "# def get_quantile_count(group, quantile=0.5):     # Problem with no different colors for boys and girls.\n",
    "#     group = group.groupby('soundex').sum()\n",
    "#     df = group.sort_index(by='prop', ascending=False)\n",
    "#     return df.prop.cumsum().searchsorted(quantile)\n",
    "# \n",
    "# #f = lambda x: get_quantile_count(x, 0.1)\n",
    "# q = 0.25\n",
    "# boy_ct = boys.groupby('year').apply(get_quantile_count, quantile=q)   # to pass different values for quantile\n",
    "# girl_ct = girls.groupby('year').apply(get_quantile_count, quantile=q)\n",
    "# boy_ct.plot(label='boy')\n",
    "# girl_ct.plot(label='girl')\n",
    "# legend(loc='best')    # with --pylab=inline, we don't have to do plt.legend()"
   ],
   "metadata": {
    "collapsed": false,
    "pycharm": {
     "name": "#%%\n",
     "is_executing": false
    }
   }
  },
  {
   "cell_type": "code",
   "execution_count": 139,
   "outputs": [
    {
     "data": {
      "text/plain": "128000    1000.0\n128001     999.0\n128002     998.0\n128003     997.0\n128004     996.0\n           ...  \n128995       7.5\n128996       2.5\n128997       2.5\n128998       2.5\n128999       2.5\nName: prop, Length: 1000, dtype: float64"
     },
     "metadata": {},
     "output_type": "execute_result",
     "execution_count": 139
    }
   ],
   "source": [
    "boys[boys.year == 2008].prop.rank()    # mean rank by default."
   ],
   "metadata": {
    "collapsed": false,
    "pycharm": {
     "name": "#%%\n",
     "is_executing": false
    }
   }
  },
  {
   "cell_type": "code",
   "execution_count": 140,
   "outputs": [],
   "source": [
    "grouped = boys.groupby('year')['prop']"
   ],
   "metadata": {
    "collapsed": false,
    "pycharm": {
     "name": "#%%\n",
     "is_executing": false
    }
   }
  },
  {
   "cell_type": "code",
   "execution_count": 141,
   "outputs": [
    {
     "data": {
      "text/plain": "0         1000.0\n1          999.0\n2          998.0\n3          997.0\n4          996.0\n           ...  \n128995       7.5\n128996       2.5\n128997       2.5\n128998       2.5\n128999       2.5\nName: prop, Length: 129000, dtype: float64"
     },
     "metadata": {},
     "output_type": "execute_result",
     "execution_count": 141
    }
   ],
   "source": [
    "grouped.transform(Series.rank)   # transform is more rigid than apply. Output the same size as the input."
   ],
   "metadata": {
    "collapsed": false,
    "pycharm": {
     "name": "#%%\n",
     "is_executing": false
    }
   }
  },
  {
   "cell_type": "code",
   "execution_count": 142,
   "outputs": [
    {
     "name": "stderr",
     "text": [
      "D:\\Users\\cduon\\Anaconda3\\lib\\site-packages\\ipykernel_launcher.py:2: SettingWithCopyWarning: \n",
      "A value is trying to be set on a copy of a slice from a DataFrame.\n",
      "Try using .loc[row_indexer,col_indexer] = value instead\n",
      "\n",
      "See the caveats in the documentation: http://pandas.pydata.org/pandas-docs/stable/user_guide/indexing.html#returning-a-view-versus-a-copy\n",
      "  \n"
     ],
     "output_type": "stream"
    }
   ],
   "source": [
    "#rigid operation which outputs the same size array as that is inputted.\n",
    "boys['year_rank'] = grouped.transform(Series.rank)"
   ],
   "metadata": {
    "collapsed": false,
    "pycharm": {
     "name": "#%%\n",
     "is_executing": false
    }
   }
  },
  {
   "cell_type": "code",
   "execution_count": 143,
   "outputs": [
    {
     "data": {
      "text/plain": "<matplotlib.axes._subplots.AxesSubplot at 0x2baec32abc8>"
     },
     "metadata": {},
     "output_type": "execute_result",
     "execution_count": 143
    },
    {
     "data": {
      "text/plain": "<Figure size 432x288 with 1 Axes>",
      "image/png": "[encoded data removed]"
     },
     "metadata": {
      "needs_background": "light"
     },
     "output_type": "display_data"
    }
   ],
   "source": [
    "boys[boys.name == 'Wesley'].year_rank.plot()"
   ],
   "metadata": {
    "collapsed": false,
    "pycharm": {
     "name": "#%%\n",
     "is_executing": false
    }
   }
  },
  {
   "cell_type": "code",
   "execution_count": 144,
   "outputs": [
    {
     "name": "stderr",
     "text": [
      "D:\\Users\\cduon\\Anaconda3\\lib\\site-packages\\ipykernel_launcher.py:2: FutureWarning: \n",
      ".ix is deprecated. Please use\n",
      ".loc for label based indexing or\n",
      ".iloc for positional indexing\n",
      "\n",
      "See the documentation here:\n",
      "http://pandas.pydata.org/pandas-docs/stable/user_guide/indexing.html#ix-indexer-is-deprecated\n",
      "  \n",
      "D:\\Users\\cduon\\Anaconda3\\lib\\site-packages\\ipykernel_launcher.py:3: FutureWarning: \n",
      ".ix is deprecated. Please use\n",
      ".loc for label based indexing or\n",
      ".iloc for positional indexing\n",
      "\n",
      "See the documentation here:\n",
      "http://pandas.pydata.org/pandas-docs/stable/user_guide/indexing.html#ix-indexer-is-deprecated\n",
      "  This is separate from the ipykernel package so we can avoid doing imports until\n",
      "D:\\Users\\cduon\\Anaconda3\\lib\\site-packages\\ipykernel_launcher.py:4: FutureWarning: \n",
      ".ix is deprecated. Please use\n",
      ".loc for label based indexing or\n",
      ".iloc for positional indexing\n",
      "\n",
      "See the documentation here:\n",
      "http://pandas.pydata.org/pandas-docs/stable/user_guide/indexing.html#ix-indexer-is-deprecated\n",
      "  after removing the cwd from sys.path.\n"
     ],
     "output_type": "stream"
    },
    {
     "data": {
      "text/plain": "<matplotlib.axes._subplots.AxesSubplot at 0x2baec301bc8>"
     },
     "metadata": {},
     "output_type": "execute_result",
     "execution_count": 144
    },
    {
     "data": {
      "text/plain": "<Figure size 432x288 with 1 Axes>",
      "image/png": "[encoded data removed]"
     },
     "metadata": {
      "needs_background": "light"
     },
     "output_type": "display_data"
    }
   ],
   "source": [
    "idf = boys.set_index(['name', 'year'])   # same as above\n",
    "idf.ix['Wesley']\n",
    "idf.ix['Wesley'].year_rank\n",
    "idf.ix['Wesley'].year_rank.plot()"
   ],
   "metadata": {
    "collapsed": false,
    "pycharm": {
     "name": "#%%\n",
     "is_executing": false
    }
   }
  },
  {
   "cell_type": "code",
   "execution_count": 145,
   "outputs": [
    {
     "name": "stderr",
     "text": [
      "UsageError: Line magic function `%` not found.\n"
     ],
     "output_type": "stream"
    }
   ],
   "source": [
    "% timeit result = grouped.transform(lambda x: x - x.mean())"
   ],
   "metadata": {
    "collapsed": false,
    "pycharm": {
     "name": "#%%\n",
     "is_executing": false
    }
   }
  },
  {
   "cell_type": "code",
   "execution_count": null,
   "outputs": [],
   "source": [
    "% timeit result = grouped.apply(lambda x: x - x.mean())"
   ],
   "metadata": {
    "collapsed": false,
    "pycharm": {
     "name": "#%%\n",
     "is_executing": false
    }
   }
  },
  {
   "cell_type": "code",
   "execution_count": null,
   "outputs": [],
   "source": [
    "names   # Output only the proportion of each name, not the amount."
   ],
   "metadata": {
    "collapsed": false,
    "pycharm": {
     "name": "#%%\n",
     "is_executing": false
    }
   }
  },
  {
   "cell_type": "code",
   "execution_count": null,
   "outputs": [],
   "source": [
    "births = read_csv('births.csv')"
   ],
   "metadata": {
    "collapsed": false,
    "pycharm": {
     "name": "#%%\n",
     "is_executing": false
    }
   }
  },
  {
   "cell_type": "code",
   "execution_count": null,
   "outputs": [],
   "source": [
    "merged = merge(names, births, on=['year', 'sex'])   # merge 2 tables: names and births."
   ],
   "metadata": {
    "collapsed": false,
    "pycharm": {
     "name": "#%%\n",
     "is_executing": false
    }
   }
  },
  {
   "cell_type": "code",
   "execution_count": null,
   "outputs": [],
   "source": [
    "merge(names, births)   # same as above. Join is performed using the common columns: year and sex\n",
    "                       # Many to many joins in SQL compute the cartesians products of duplicated keys."
   ],
   "metadata": {
    "collapsed": false,
    "pycharm": {
     "name": "#%%\n",
     "is_executing": false
    }
   }
  },
  {
   "cell_type": "code",
   "execution_count": null,
   "outputs": [],
   "source": [
    "#floor truncates the floating values to get the nearest integers\n",
    "merged['persons'] = np.floor(merged.prop * merged.births)"
   ],
   "metadata": {
    "collapsed": false,
    "pycharm": {
     "name": "#%%\n",
     "is_executing": false
    }
   }
  },
  {
   "cell_type": "code",
   "execution_count": null,
   "outputs": [],
   "source": [
    "merged.head()"
   ],
   "metadata": {
    "collapsed": false,
    "pycharm": {
     "name": "#%%\n",
     "is_executing": false
    }
   }
  },
  {
   "cell_type": "code",
   "execution_count": null,
   "outputs": [],
   "source": [
    "merged.groupby(['name', 'sex'])['persons'].sum()   # slice and dice. It's a hierarhical labeling."
   ],
   "metadata": {
    "collapsed": false,
    "pycharm": {
     "name": "#%%\n",
     "is_executing": false
    }
   }
  },
  {
   "cell_type": "code",
   "execution_count": 148,
   "outputs": [
    {
     "traceback": [
      "\u001b[1;31m---------------------------------------------------------------------------\u001b[0m",
      "\u001b[1;31mKeyError\u001b[0m                                  Traceback (most recent call last)",
      "\u001b[1;32m<ipython-input-148-a79b3e03e1b9>\u001b[0m in \u001b[0;36m<module>\u001b[1;34m\u001b[0m\n\u001b[1;32m----> 1\u001b[1;33m \u001b[0mmerged\u001b[0m\u001b[1;33m.\u001b[0m\u001b[0mgroupby\u001b[0m\u001b[1;33m(\u001b[0m\u001b[1;33m[\u001b[0m\u001b[1;34m'name'\u001b[0m\u001b[1;33m,\u001b[0m \u001b[1;34m'sex'\u001b[0m\u001b[1;33m]\u001b[0m\u001b[1;33m)\u001b[0m\u001b[1;33m[\u001b[0m\u001b[1;34m'persons'\u001b[0m\u001b[1;33m]\u001b[0m\u001b[1;33m.\u001b[0m\u001b[0msum\u001b[0m\u001b[1;33m(\u001b[0m\u001b[1;33m)\u001b[0m\u001b[1;33m.\u001b[0m\u001b[0morder\u001b[0m\u001b[1;33m(\u001b[0m\u001b[1;33m)\u001b[0m\u001b[1;33m\u001b[0m\u001b[1;33m\u001b[0m\u001b[0m\n\u001b[0m\u001b[0;32m      2\u001b[0m \u001b[1;33m\u001b[0m\u001b[0m\n",
      "\u001b[1;32mD:\\Users\\cduon\\Anaconda3\\lib\\site-packages\\pandas\\core\\base.py\u001b[0m in \u001b[0;36m__getitem__\u001b[1;34m(self, key)\u001b[0m\n\u001b[0;32m    266\u001b[0m         \u001b[1;32melse\u001b[0m\u001b[1;33m:\u001b[0m\u001b[1;33m\u001b[0m\u001b[1;33m\u001b[0m\u001b[0m\n\u001b[0;32m    267\u001b[0m             \u001b[1;32mif\u001b[0m \u001b[0mkey\u001b[0m \u001b[1;32mnot\u001b[0m \u001b[1;32min\u001b[0m \u001b[0mself\u001b[0m\u001b[1;33m.\u001b[0m\u001b[0mobj\u001b[0m\u001b[1;33m:\u001b[0m\u001b[1;33m\u001b[0m\u001b[1;33m\u001b[0m\u001b[0m\n\u001b[1;32m--> 268\u001b[1;33m                 \u001b[1;32mraise\u001b[0m \u001b[0mKeyError\u001b[0m\u001b[1;33m(\u001b[0m\u001b[1;34m\"Column not found: {key}\"\u001b[0m\u001b[1;33m.\u001b[0m\u001b[0mformat\u001b[0m\u001b[1;33m(\u001b[0m\u001b[0mkey\u001b[0m\u001b[1;33m=\u001b[0m\u001b[0mkey\u001b[0m\u001b[1;33m)\u001b[0m\u001b[1;33m)\u001b[0m\u001b[1;33m\u001b[0m\u001b[1;33m\u001b[0m\u001b[0m\n\u001b[0m\u001b[0;32m    269\u001b[0m             \u001b[1;32mreturn\u001b[0m \u001b[0mself\u001b[0m\u001b[1;33m.\u001b[0m\u001b[0m_gotitem\u001b[0m\u001b[1;33m(\u001b[0m\u001b[0mkey\u001b[0m\u001b[1;33m,\u001b[0m \u001b[0mndim\u001b[0m\u001b[1;33m=\u001b[0m\u001b[1;36m1\u001b[0m\u001b[1;33m)\u001b[0m\u001b[1;33m\u001b[0m\u001b[1;33m\u001b[0m\u001b[0m\n\u001b[0;32m    270\u001b[0m \u001b[1;33m\u001b[0m\u001b[0m\n",
      "\u001b[1;31mKeyError\u001b[0m: 'Column not found: persons'"
     ],
     "ename": "KeyError",
     "evalue": "'Column not found: persons'",
     "output_type": "error"
    }
   ],
   "source": [
    "merged.groupby(['name', 'sex'])['persons'].sum().order()"
   ],
   "metadata": {
    "collapsed": false,
    "pycharm": {
     "name": "#%%\n",
     "is_executing": false
    }
   }
  },
  {
   "cell_type": "code",
   "execution_count": 147,
   "outputs": [],
   "source": [
    "mboys = merge(boys, births)  # inner join by default."
   ],
   "metadata": {
    "collapsed": false,
    "pycharm": {
     "name": "#%%\n",
     "is_executing": false
    }
   }
  },
  {
   "cell_type": "code",
   "execution_count": null,
   "outputs": [],
   "source": [
    "mboys['persons'] = np.floor(mboys.prop * mboys.births)"
   ],
   "metadata": {
    "collapsed": false,
    "pycharm": {
     "name": "#%%\n",
     "is_executing": false
    }
   }
  },
  {
   "cell_type": "code",
   "execution_count": 146,
   "outputs": [
    {
     "traceback": [
      "\u001b[1;31m---------------------------------------------------------------------------\u001b[0m",
      "\u001b[1;31mNameError\u001b[0m                                 Traceback (most recent call last)",
      "\u001b[1;32m<ipython-input-146-ccde6cfe6ce7>\u001b[0m in \u001b[0;36m<module>\u001b[1;34m\u001b[0m\n\u001b[1;32m----> 1\u001b[1;33m \u001b[0mpersons\u001b[0m \u001b[1;33m=\u001b[0m \u001b[0mmboys\u001b[0m\u001b[1;33m.\u001b[0m\u001b[0mset_index\u001b[0m\u001b[1;33m(\u001b[0m\u001b[1;33m[\u001b[0m\u001b[1;34m'year'\u001b[0m\u001b[1;33m,\u001b[0m \u001b[1;34m'name'\u001b[0m\u001b[1;33m]\u001b[0m\u001b[1;33m)\u001b[0m\u001b[1;33m.\u001b[0m\u001b[0mpersons\u001b[0m   \u001b[1;31m# Select out persons\u001b[0m\u001b[1;33m\u001b[0m\u001b[1;33m\u001b[0m\u001b[0m\n\u001b[0m\u001b[0;32m      2\u001b[0m \u001b[1;33m\u001b[0m\u001b[0m\n",
      "\u001b[1;31mNameError\u001b[0m: name 'mboys' is not defined"
     ],
     "ename": "NameError",
     "evalue": "name 'mboys' is not defined",
     "output_type": "error"
    }
   ],
   "source": [
    "persons = mboys.set_index(['year', 'name']).persons   # Select out persons"
   ],
   "metadata": {
    "collapsed": false,
    "pycharm": {
     "name": "#%%\n",
     "is_executing": false
    }
   }
  },
  {
   "cell_type": "code",
   "execution_count": null,
   "outputs": [],
   "source": [
    "type(persons)  # One dimensional series.\n"
   ],
   "metadata": {
    "collapsed": false,
    "pycharm": {
     "name": "#%%\n",
     "is_executing": false
    }
   }
  },
  {
   "cell_type": "code",
   "execution_count": null,
   "outputs": [],
   "source": [
    "persons  # hierarhical index"
   ],
   "metadata": {
    "collapsed": false,
    "pycharm": {
     "name": "#%%\n",
     "is_executing": false
    }
   }
  },
  {
   "cell_type": "code",
   "execution_count": null,
   "outputs": [],
   "source": [
    "persons.ix[:, 'Christopher'].plot(kind='bar', rot=90)  # Select out all the people named Chris. Plot is kind of crowded. Matplotlib doesn't go more than 130 in x axis."
   ],
   "metadata": {
    "collapsed": false,
    "pycharm": {
     "name": "#%%\n",
     "is_executing": false
    }
   }
  },
  {
   "cell_type": "code",
   "execution_count": null,
   "outputs": [],
   "source": [
    "persons.unstack('name')   # Create a data frame whose columns are each unique names, and the row indexes are the years."
   ],
   "metadata": {
    "collapsed": false,
    "pycharm": {
     "name": "#%%\n",
     "is_executing": false
    }
   }
  },
  {
   "cell_type": "code",
   "execution_count": null,
   "outputs": [],
   "source": [
    "result = _   # underscore in ipython: the output of the last statement, because we don't want to compute again the same thing."
   ],
   "metadata": {
    "collapsed": false,
    "pycharm": {
     "name": "#%%\n",
     "is_executing": false
    }
   }
  },
  {
   "cell_type": "code",
   "execution_count": null,
   "outputs": [],
   "source": [
    "result"
   ],
   "metadata": {
    "collapsed": false,
    "pycharm": {
     "name": "#%%\n",
     "is_executing": false
    }
   }
  },
  {
   "cell_type": "code",
   "execution_count": null,
   "outputs": [],
   "source": [
    "result['Wesley']"
   ],
   "metadata": {
    "collapsed": false,
    "pycharm": {
     "name": "#%%\n",
     "is_executing": false
    }
   }
  },
  {
   "cell_type": "code",
   "execution_count": null,
   "outputs": [],
   "source": [
    "result['Wesley'].plot()"
   ],
   "metadata": {
    "collapsed": false,
    "pycharm": {
     "name": "#%%\n",
     "is_executing": false
    }
   }
  },
  {
   "cell_type": "code",
   "execution_count": null,
   "outputs": [],
   "source": [],
   "metadata": {
    "collapsed": false,
    "pycharm": {
     "name": "#%%\n",
     "is_executing": false
    }
   }
  }
 ],
 "metadata": {
  "kernelspec": {
   "display_name": "Python 3",
   "language": "python",
   "name": "python3"
  },
  "language_info": {
   "codemirror_mode": {
    "name": "ipython",
    "version": 3
   },
   "file_extension": ".py",
   "mimetype": "text/x-python",
   "name": "python",
   "nbconvert_exporter": "python",
   "pygments_lexer": "ipython3",
   "version": "3.7.5"
  },
  "pycharm": {
   "stem_cell": {
    "cell_type": "raw",
    "source": [],
    "metadata": {
     "collapsed": false
    }
   }
  }
 },
 "nbformat": 4,
 "nbformat_minor": 1
}