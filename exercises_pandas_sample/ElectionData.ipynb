{
 "cells": [
  {
   "cell_type": "code",
   "execution_count": 17,
   "metadata": {
    "collapsed": true,
    "pycharm": {
     "is_executing": false
    }
   },
   "outputs": [],
   "source": [
    "from pandas import *\n",
    "import matplotlib as mpl\n",
    "mpl.rc('figure', figsize=(12, 6))\n",
    "pandas.set_option('display.max_columns', 18)\n",
    "months = {'JAN' : 1, 'FEB' : 2, 'MAR' : 3, 'APR' : 4, 'MAY' : 5, 'JUN' : 6,\n",
    "          'JUL' : 7, 'AUG' : 8, 'SEP' : 9, 'OCT': 10, 'NOV': 11, 'DEC' : 12}\n",
    "of_interest = ['Obama, Barack', 'Romney, Mitt', 'Santorum, Rick', \n",
    "               'Paul, Ron', 'Gingrich, Newt']\n",
    "parties = {\n",
    "  'Bachmann, Michelle': 'Republican',\n",
    "  'Romney, Mitt': 'Republican',\n",
    "  'Obama, Barack': 'Democrat',\n",
    "  \"Roemer, Charles E. 'Buddy' III\": 'Reform',\n",
    "  'Pawlenty, Timothy': 'Republican',\n",
    "  'Johnson, Gary Earl': 'Libertarian',\n",
    "  'Paul, Ron': 'Republican',\n",
    "  'Santorum, Rick': 'Republican',\n",
    "  'Cain, Herman': 'Republican',\n",
    "  'Gingrich, Newt': 'Republican',\n",
    "  'McCotter, Thaddeus G': 'Republican',\n",
    "  'Huntsman, Jon': 'Republican',\n",
    "  'Perry, Rick': 'Republican'           \n",
    " }"
   ]
  },
  {
   "cell_type": "code",
   "execution_count": 18,
   "metadata": {
    "collapsed": true,
    "pycharm": {
     "is_executing": false
    }
   },
   "outputs": [],
   "source": [
    "fec = read_csv('P00000001-ALL.txt')"
   ]
  },
  {
   "cell_type": "code",
   "execution_count": 19,
   "metadata": {
    "pycharm": {
     "is_executing": false
    }
   },
   "outputs": [
    {
     "data": {
      "text/plain": "          cmte_id    cand_id             cand_nm               contbr_nm  \\\n0       C00410118  P20002978  Bachmann, Michelle         HARVEY, WILLIAM   \n1       C00410118  P20002978  Bachmann, Michelle         HARVEY, WILLIAM   \n2       C00410118  P20002978  Bachmann, Michelle           SMITH, LANIER   \n3       C00410118  P20002978  Bachmann, Michelle        BLEVINS, DARONDA   \n4       C00410118  P20002978  Bachmann, Michelle      WARDENBURG, HAROLD   \n...           ...        ...                 ...                     ...   \n536036  C00500587  P20003281         Perry, Rick  ANDERSON, MARILEE MRS.   \n536037  C00500587  P20003281         Perry, Rick      TOLBERT, DARYL MR.   \n536038  C00500587  P20003281         Perry, Rick     GRANE, BRYAN F. MR.   \n536039  C00500587  P20003281         Perry, Rick     DUFFY, DAVID A. MR.   \n536040  C00500587  P20003281         Perry, Rick    GORMAN, CHRIS D. MR.   \n\n               contbr_city contbr_st   contbr_zip  \\\n0                   MOBILE        AL   3.6601e+08   \n1                   MOBILE        AL   3.6601e+08   \n2                   LANETT        AL  3.68633e+08   \n3                  PIGGOTT        AR  7.24548e+08   \n4       HOT SPRINGS NATION        AR  7.19016e+08   \n...                    ...       ...          ...   \n536036      INFO REQUESTED        XX        99999   \n536037      INFO REQUESTED        XX        99999   \n536038      INFO REQUESTED        XX        99999   \n536039      INFO REQUESTED        XX        99999   \n536040      INFO REQUESTED        XX        99999   \n\n                               contbr_employer  \\\n0                                      RETIRED   \n1                                      RETIRED   \n2                        INFORMATION REQUESTED   \n3                                         NONE   \n4                                         NONE   \n...                                        ...   \n536036  INFORMATION REQUESTED PER BEST EFFORTS   \n536037                                T.A.C.C.   \n536038  INFORMATION REQUESTED PER BEST EFFORTS   \n536039            DUFFY EQUIPMENT COMPANY INC.   \n536040  INFORMATION REQUESTED PER BEST EFFORTS   \n\n                             contbr_occupation  contb_receipt_amt  \\\n0                                      RETIRED              250.0   \n1                                      RETIRED               50.0   \n2                        INFORMATION REQUESTED              250.0   \n3                                      RETIRED              250.0   \n4                                      RETIRED              300.0   \n...                                        ...                ...   \n536036  INFORMATION REQUESTED PER BEST EFFORTS             2500.0   \n536037            LONGWALL MAINTENANCE FOREMAN              500.0   \n536038  INFORMATION REQUESTED PER BEST EFFORTS              500.0   \n536039                          BUSINESS OWNER             2500.0   \n536040  INFORMATION REQUESTED PER BEST EFFORTS             5000.0   \n\n       contb_receipt_dt                                       receipt_desc  \\\n0             20-JUN-11                                                NaN   \n1             23-JUN-11                                                NaN   \n2             05-JUL-11                                                NaN   \n3             01-AUG-11                                                NaN   \n4             20-JUN-11                                                NaN   \n...                 ...                                                ...   \n536036        31-AUG-11                                                NaN   \n536037        30-SEP-11                                                NaN   \n536038        29-SEP-11                                                NaN   \n536039        30-SEP-11                                                NaN   \n536040        29-SEP-11  REATTRIBUTION / REDESIGNATION REQUESTED (AUTOM...   \n\n       memo_cd                                          memo_text form_tp  \\\n0          NaN                                                NaN   SA17A   \n1          NaN                                                NaN   SA17A   \n2          NaN                                                NaN   SA17A   \n3          NaN                                                NaN   SA17A   \n4          NaN                                                NaN   SA17A   \n...        ...                                                ...     ...   \n536036     NaN                                                NaN   SA17A   \n536037     NaN                                                NaN   SA17A   \n536038     NaN                                                NaN   SA17A   \n536039     NaN                                                NaN   SA17A   \n536040     NaN  REATTRIBUTION / REDESIGNATION REQUESTED (AUTOM...   SA17A   \n\n        file_num  \n0         736166  \n1         736166  \n2         749073  \n3         749073  \n4         736166  \n...          ...  \n536036    751678  \n536037    751678  \n536038    751678  \n536039    751678  \n536040    751678  \n\n[536041 rows x 16 columns]",
      "text/html": "<div>\n<style scoped>\n    .dataframe tbody tr th:only-of-type {\n        vertical-align: middle;\n    }\n\n    .dataframe tbody tr th {\n        vertical-align: top;\n    }\n\n    .dataframe thead th {\n        text-align: right;\n    }\n</style>\n<table border=\"1\" class=\"dataframe\">\n  <thead>\n    <tr style=\"text-align: right;\">\n      <th></th>\n      <th>cmte_id</th>\n      <th>cand_id</th>\n      <th>cand_nm</th>\n      <th>contbr_nm</th>\n      <th>contbr_city</th>\n      <th>contbr_st</th>\n      <th>contbr_zip</th>\n      <th>contbr_employer</th>\n      <th>contbr_occupation</th>\n      <th>contb_receipt_amt</th>\n      <th>contb_receipt_dt</th>\n      <th>receipt_desc</th>\n      <th>memo_cd</th>\n      <th>memo_text</th>\n      <th>form_tp</th>\n      <th>file_num</th>\n    </tr>\n  </thead>\n  <tbody>\n    <tr>\n      <th>0</th>\n      <td>C00410118</td>\n      <td>P20002978</td>\n      <td>Bachmann, Michelle</td>\n      <td>HARVEY, WILLIAM</td>\n      <td>MOBILE</td>\n      <td>AL</td>\n      <td>3.6601e+08</td>\n      <td>RETIRED</td>\n      <td>RETIRED</td>\n      <td>250.0</td>\n      <td>20-JUN-11</td>\n      <td>NaN</td>\n      <td>NaN</td>\n      <td>NaN</td>\n      <td>SA17A</td>\n      <td>736166</td>\n    </tr>\n    <tr>\n      <th>1</th>\n      <td>C00410118</td>\n      <td>P20002978</td>\n      <td>Bachmann, Michelle</td>\n      <td>HARVEY, WILLIAM</td>\n      <td>MOBILE</td>\n      <td>AL</td>\n      <td>3.6601e+08</td>\n      <td>RETIRED</td>\n      <td>RETIRED</td>\n      <td>50.0</td>\n      <td>23-JUN-11</td>\n      <td>NaN</td>\n      <td>NaN</td>\n      <td>NaN</td>\n      <td>SA17A</td>\n      <td>736166</td>\n    </tr>\n    <tr>\n      <th>2</th>\n      <td>C00410118</td>\n      <td>P20002978</td>\n      <td>Bachmann, Michelle</td>\n      <td>SMITH, LANIER</td>\n      <td>LANETT</td>\n      <td>AL</td>\n      <td>3.68633e+08</td>\n      <td>INFORMATION REQUESTED</td>\n      <td>INFORMATION REQUESTED</td>\n      <td>250.0</td>\n      <td>05-JUL-11</td>\n      <td>NaN</td>\n      <td>NaN</td>\n      <td>NaN</td>\n      <td>SA17A</td>\n      <td>749073</td>\n    </tr>\n    <tr>\n      <th>3</th>\n      <td>C00410118</td>\n      <td>P20002978</td>\n      <td>Bachmann, Michelle</td>\n      <td>BLEVINS, DARONDA</td>\n      <td>PIGGOTT</td>\n      <td>AR</td>\n      <td>7.24548e+08</td>\n      <td>NONE</td>\n      <td>RETIRED</td>\n      <td>250.0</td>\n      <td>01-AUG-11</td>\n      <td>NaN</td>\n      <td>NaN</td>\n      <td>NaN</td>\n      <td>SA17A</td>\n      <td>749073</td>\n    </tr>\n    <tr>\n      <th>4</th>\n      <td>C00410118</td>\n      <td>P20002978</td>\n      <td>Bachmann, Michelle</td>\n      <td>WARDENBURG, HAROLD</td>\n      <td>HOT SPRINGS NATION</td>\n      <td>AR</td>\n      <td>7.19016e+08</td>\n      <td>NONE</td>\n      <td>RETIRED</td>\n      <td>300.0</td>\n      <td>20-JUN-11</td>\n      <td>NaN</td>\n      <td>NaN</td>\n      <td>NaN</td>\n      <td>SA17A</td>\n      <td>736166</td>\n    </tr>\n    <tr>\n      <th>...</th>\n      <td>...</td>\n      <td>...</td>\n      <td>...</td>\n      <td>...</td>\n      <td>...</td>\n      <td>...</td>\n      <td>...</td>\n      <td>...</td>\n      <td>...</td>\n      <td>...</td>\n      <td>...</td>\n      <td>...</td>\n      <td>...</td>\n      <td>...</td>\n      <td>...</td>\n      <td>...</td>\n    </tr>\n    <tr>\n      <th>536036</th>\n      <td>C00500587</td>\n      <td>P20003281</td>\n      <td>Perry, Rick</td>\n      <td>ANDERSON, MARILEE MRS.</td>\n      <td>INFO REQUESTED</td>\n      <td>XX</td>\n      <td>99999</td>\n      <td>INFORMATION REQUESTED PER BEST EFFORTS</td>\n      <td>INFORMATION REQUESTED PER BEST EFFORTS</td>\n      <td>2500.0</td>\n      <td>31-AUG-11</td>\n      <td>NaN</td>\n      <td>NaN</td>\n      <td>NaN</td>\n      <td>SA17A</td>\n      <td>751678</td>\n    </tr>\n    <tr>\n      <th>536037</th>\n      <td>C00500587</td>\n      <td>P20003281</td>\n      <td>Perry, Rick</td>\n      <td>TOLBERT, DARYL MR.</td>\n      <td>INFO REQUESTED</td>\n      <td>XX</td>\n      <td>99999</td>\n      <td>T.A.C.C.</td>\n      <td>LONGWALL MAINTENANCE FOREMAN</td>\n      <td>500.0</td>\n      <td>30-SEP-11</td>\n      <td>NaN</td>\n      <td>NaN</td>\n      <td>NaN</td>\n      <td>SA17A</td>\n      <td>751678</td>\n    </tr>\n    <tr>\n      <th>536038</th>\n      <td>C00500587</td>\n      <td>P20003281</td>\n      <td>Perry, Rick</td>\n      <td>GRANE, BRYAN F. MR.</td>\n      <td>INFO REQUESTED</td>\n      <td>XX</td>\n      <td>99999</td>\n      <td>INFORMATION REQUESTED PER BEST EFFORTS</td>\n      <td>INFORMATION REQUESTED PER BEST EFFORTS</td>\n      <td>500.0</td>\n      <td>29-SEP-11</td>\n      <td>NaN</td>\n      <td>NaN</td>\n      <td>NaN</td>\n      <td>SA17A</td>\n      <td>751678</td>\n    </tr>\n    <tr>\n      <th>536039</th>\n      <td>C00500587</td>\n      <td>P20003281</td>\n      <td>Perry, Rick</td>\n      <td>DUFFY, DAVID A. MR.</td>\n      <td>INFO REQUESTED</td>\n      <td>XX</td>\n      <td>99999</td>\n      <td>DUFFY EQUIPMENT COMPANY INC.</td>\n      <td>BUSINESS OWNER</td>\n      <td>2500.0</td>\n      <td>30-SEP-11</td>\n      <td>NaN</td>\n      <td>NaN</td>\n      <td>NaN</td>\n      <td>SA17A</td>\n      <td>751678</td>\n    </tr>\n    <tr>\n      <th>536040</th>\n      <td>C00500587</td>\n      <td>P20003281</td>\n      <td>Perry, Rick</td>\n      <td>GORMAN, CHRIS D. MR.</td>\n      <td>INFO REQUESTED</td>\n      <td>XX</td>\n      <td>99999</td>\n      <td>INFORMATION REQUESTED PER BEST EFFORTS</td>\n      <td>INFORMATION REQUESTED PER BEST EFFORTS</td>\n      <td>5000.0</td>\n      <td>29-SEP-11</td>\n      <td>REATTRIBUTION / REDESIGNATION REQUESTED (AUTOM...</td>\n      <td>NaN</td>\n      <td>REATTRIBUTION / REDESIGNATION REQUESTED (AUTOM...</td>\n      <td>SA17A</td>\n      <td>751678</td>\n    </tr>\n  </tbody>\n</table>\n<p>536041 rows × 16 columns</p>\n</div>"
     },
     "metadata": {},
     "output_type": "execute_result",
     "execution_count": 19
    }
   ],
   "source": [
    "fec"
   ]
  },
  {
   "cell_type": "code",
   "execution_count": 20,
   "metadata": {
    "collapsed": true,
    "pycharm": {
     "is_executing": false
    }
   },
   "outputs": [
    {
     "data": {
      "text/plain": "{'Bachmann, Michelle': 'Republican',\n 'Romney, Mitt': 'Republican',\n 'Obama, Barack': 'Democrat',\n \"Roemer, Charles E. 'Buddy' III\": 'Reform',\n 'Pawlenty, Timothy': 'Republican',\n 'Johnson, Gary Earl': 'Libertarian',\n 'Paul, Ron': 'Republican',\n 'Santorum, Rick': 'Republican',\n 'Cain, Herman': 'Republican',\n 'Gingrich, Newt': 'Republican',\n 'McCotter, Thaddeus G': 'Republican',\n 'Huntsman, Jon': 'Republican',\n 'Perry, Rick': 'Republican'}"
     },
     "metadata": {},
     "output_type": "execute_result",
     "execution_count": 20
    }
   ],
   "source": [
    "parties    # dictionary"
   ]
  },
  {
   "cell_type": "code",
   "execution_count": 21,
   "metadata": {
    "pycharm": {
     "is_executing": false
    }
   },
   "outputs": [
    {
     "data": {
      "text/plain": "0         Bachmann, Michelle\n1         Bachmann, Michelle\n2         Bachmann, Michelle\n3         Bachmann, Michelle\n4         Bachmann, Michelle\n                 ...        \n536036           Perry, Rick\n536037           Perry, Rick\n536038           Perry, Rick\n536039           Perry, Rick\n536040           Perry, Rick\nName: cand_nm, Length: 536041, dtype: object"
     },
     "metadata": {},
     "output_type": "execute_result",
     "execution_count": 21
    }
   ],
   "source": [
    "fec.cand_nm"
   ]
  },
  {
   "cell_type": "code",
   "execution_count": 55,
   "metadata": {
    "pycharm": {
     "is_executing": false
    }
   },
   "outputs": [],
   "source": [
    "fec['party'] = fec.cand_nm.map(parties)  # map can take dictionary, series... \n",
    "                                         # Alternatively, use list comprehension: [parties[x] for x in fec.cand_nm]"
   ]
  },
  {
   "cell_type": "code",
   "execution_count": 23,
   "metadata": {
    "pycharm": {
     "is_executing": false
    }
   },
   "outputs": [
    {
     "name": "stderr",
     "text": [
      "D:\\Users\\cduon\\Anaconda3\\lib\\site-packages\\ipykernel_launcher.py:1: FutureWarning: \n",
      ".ix is deprecated. Please use\n",
      ".loc for label based indexing or\n",
      ".iloc for positional indexing\n",
      "\n",
      "See the documentation here:\n",
      "http://pandas.pydata.org/pandas-docs/stable/user_guide/indexing.html#ix-indexer-is-deprecated\n",
      "  \"\"\"Entry point for launching an IPython kernel.\n"
     ],
     "output_type": "stream"
    },
    {
     "data": {
      "text/plain": "cmte_id                       C00410118\ncand_id                       P20002978\ncand_nm              Bachmann, Michelle\ncontbr_nm               HARVEY, WILLIAM\ncontbr_city                      MOBILE\ncontbr_st                            AL\ncontbr_zip                   3.6601e+08\ncontbr_employer                 RETIRED\ncontbr_occupation               RETIRED\ncontb_receipt_amt                   250\ncontb_receipt_dt              20-JUN-11\nreceipt_desc                        NaN\nmemo_cd                             NaN\nmemo_text                           NaN\nform_tp                           SA17A\nfile_num                         736166\nparty                        Republican\nName: 0, dtype: object"
     },
     "metadata": {},
     "output_type": "execute_result",
     "execution_count": 23
    }
   ],
   "source": [
    "fec.ix[0]    # A single record."
   ]
  },
  {
   "cell_type": "code",
   "execution_count": 24,
   "metadata": {
    "pycharm": {
     "is_executing": false
    }
   },
   "outputs": [
    {
     "data": {
      "text/plain": "Democrat       292400\nRepublican     237575\nReform           5364\nLibertarian       702\nName: party, dtype: int64"
     },
     "metadata": {},
     "output_type": "execute_result",
     "execution_count": 24
    }
   ],
   "source": [
    "fec.party.value_counts()   # Doing it high level way using histogram. "
   ]
  },
  {
   "cell_type": "code",
   "execution_count": 25,
   "metadata": {
    "pycharm": {
     "is_executing": false
    }
   },
   "outputs": [
    {
     "data": {
      "text/plain": "array(['Democrat', 'Libertarian', 'Reform', 'Republican'], dtype=object)"
     },
     "metadata": {},
     "output_type": "execute_result",
     "execution_count": 25
    }
   ],
   "source": [
    "np.unique(fec.party)"
   ]
  },
  {
   "cell_type": "code",
   "execution_count": 26,
   "metadata": {
    "pycharm": {
     "is_executing": false
    }
   },
   "outputs": [
    {
     "data": {
      "text/plain": "party\nDemocrat       8.105758e+07\nLibertarian    4.132769e+05\nReform         3.390338e+05\nRepublican     1.192255e+08\nName: contb_receipt_amt, dtype: float64"
     },
     "metadata": {},
     "output_type": "execute_result",
     "execution_count": 26
    }
   ],
   "source": [
    "fec.groupby('party')['contb_receipt_amt'].sum()"
   ]
  },
  {
   "cell_type": "code",
   "execution_count": 27,
   "metadata": {
    "pycharm": {
     "is_executing": false
    }
   },
   "outputs": [
    {
     "data": {
      "text/plain": "party       contb_receipt_dt\nDemocrat    01-AUG-11           175281.00\n            01-DEC-11           651532.82\n            01-JAN-12            58098.80\n            01-JUL-11           165961.00\n            01-JUN-11           145459.00\n                                  ...    \nRepublican  31-JAN-12           869890.41\n            31-JUL-11            12781.02\n            31-MAR-11            62475.00\n            31-MAY-11           301339.80\n            31-OCT-11           734601.83\nName: contb_receipt_amt, Length: 1183, dtype: float64"
     },
     "metadata": {},
     "output_type": "execute_result",
     "execution_count": 27
    }
   ],
   "source": [
    "fec.groupby(['party', 'contb_receipt_dt'])['contb_receipt_amt'].sum()   # Not a python date object."
   ]
  },
  {
   "cell_type": "code",
   "execution_count": 28,
   "metadata": {
    "pycharm": {
     "is_executing": false
    }
   },
   "outputs": [
    {
     "data": {
      "text/plain": "'20-JUN-11'"
     },
     "metadata": {},
     "output_type": "execute_result",
     "execution_count": 28
    }
   ],
   "source": [
    "fec.contb_receipt_dt[0]"
   ]
  },
  {
   "cell_type": "code",
   "execution_count": 29,
   "metadata": {
    "pycharm": {
     "is_executing": false
    }
   },
   "outputs": [
    {
     "name": "stdout",
     "text": [
      "{'JAN': 1, 'FEB': 2, 'MAR': 3, 'APR': 4, 'MAY': 5, 'JUN': 6, 'JUL': 7, 'AUG': 8, 'SEP': 9, 'OCT': 10, 'NOV': 11, 'DEC': 12}\n"
     ],
     "output_type": "stream"
    }
   ],
   "source": [
    "print(months)"
   ]
  },
  {
   "cell_type": "code",
   "execution_count": 30,
   "metadata": {
    "pycharm": {
     "is_executing": false
    }
   },
   "outputs": [],
   "source": [
    "def convert_date(val):    # function to convert date to python's date object.\n",
    "    d, m, y = val.split('-')\n",
    "    m = months[m]\n",
    "    return datetime(int ('20' + y), m, int(d))\n",
    "\n",
    "fec.contb_receipt_dt   # output a list of date (not yet in python objects).\n",
    "fec['contb_receipt_dt'] = fec.contb_receipt_dt.map(convert_date)"
   ]
  },
  {
   "cell_type": "code",
   "execution_count": 31,
   "metadata": {
    "pycharm": {
     "is_executing": false
    }
   },
   "outputs": [
    {
     "data": {
      "text/plain": "Timestamp('2011-06-20 00:00:00')"
     },
     "metadata": {},
     "output_type": "execute_result",
     "execution_count": 31
    }
   ],
   "source": [
    "fec.contb_receipt_dt[0]"
   ]
  },
  {
   "cell_type": "code",
   "execution_count": 32,
   "metadata": {
    "pycharm": {
     "is_executing": false
    }
   },
   "outputs": [
    {
     "data": {
      "text/plain": "party       contb_receipt_dt\nDemocrat    2011-04-04          640235.12\n            2011-04-05          307641.00\n            2011-04-06          247542.59\n            2011-04-07          252336.00\n            2011-04-08          295452.00\n                                  ...    \nRepublican  2012-01-27          368441.82\n            2012-01-28           82775.80\n            2012-01-29           75220.02\n            2012-01-30          255204.80\n            2012-01-31          869890.41\nName: contb_receipt_amt, Length: 1183, dtype: float64"
     },
     "metadata": {},
     "output_type": "execute_result",
     "execution_count": 32
    }
   ],
   "source": [
    "fec.groupby(['party', 'contb_receipt_dt'])['contb_receipt_amt'].sum() # Same as above, however, date converted to python object."
   ]
  },
  {
   "cell_type": "code",
   "execution_count": 33,
   "metadata": {
    "pycharm": {
     "is_executing": false
    }
   },
   "outputs": [],
   "source": [
    "by_date = fec.groupby(['party', 'contb_receipt_dt'])['contb_receipt_amt'].sum()"
   ]
  },
  {
   "cell_type": "code",
   "execution_count": 34,
   "metadata": {
    "pycharm": {
     "is_executing": false
    }
   },
   "outputs": [
    {
     "data": {
      "text/plain": "party               Democrat  Libertarian   Reform  Republican\ncontb_receipt_dt                                              \n2011-01-01               NaN          NaN      NaN     8600.00\n2011-01-03               NaN          NaN      NaN     4800.00\n2011-01-04               NaN          NaN      NaN     5000.00\n2011-01-12               NaN          NaN      NaN     4150.00\n2011-01-13               NaN          NaN      NaN     4000.00\n...                      ...          ...      ...         ...\n2012-01-27         305785.47          NaN  3176.37   368441.82\n2012-01-28         235492.85          NaN   175.00    82775.80\n2012-01-29          93177.00          NaN   200.00    75220.02\n2012-01-30         435921.72          NaN   130.00   255204.80\n2012-01-31        1418410.31          NaN   150.00   869890.41\n\n[376 rows x 4 columns]",
      "text/html": "<div>\n<style scoped>\n    .dataframe tbody tr th:only-of-type {\n        vertical-align: middle;\n    }\n\n    .dataframe tbody tr th {\n        vertical-align: top;\n    }\n\n    .dataframe thead th {\n        text-align: right;\n    }\n</style>\n<table border=\"1\" class=\"dataframe\">\n  <thead>\n    <tr style=\"text-align: right;\">\n      <th>party</th>\n      <th>Democrat</th>\n      <th>Libertarian</th>\n      <th>Reform</th>\n      <th>Republican</th>\n    </tr>\n    <tr>\n      <th>contb_receipt_dt</th>\n      <th></th>\n      <th></th>\n      <th></th>\n      <th></th>\n    </tr>\n  </thead>\n  <tbody>\n    <tr>\n      <th>2011-01-01</th>\n      <td>NaN</td>\n      <td>NaN</td>\n      <td>NaN</td>\n      <td>8600.00</td>\n    </tr>\n    <tr>\n      <th>2011-01-03</th>\n      <td>NaN</td>\n      <td>NaN</td>\n      <td>NaN</td>\n      <td>4800.00</td>\n    </tr>\n    <tr>\n      <th>2011-01-04</th>\n      <td>NaN</td>\n      <td>NaN</td>\n      <td>NaN</td>\n      <td>5000.00</td>\n    </tr>\n    <tr>\n      <th>2011-01-12</th>\n      <td>NaN</td>\n      <td>NaN</td>\n      <td>NaN</td>\n      <td>4150.00</td>\n    </tr>\n    <tr>\n      <th>2011-01-13</th>\n      <td>NaN</td>\n      <td>NaN</td>\n      <td>NaN</td>\n      <td>4000.00</td>\n    </tr>\n    <tr>\n      <th>...</th>\n      <td>...</td>\n      <td>...</td>\n      <td>...</td>\n      <td>...</td>\n    </tr>\n    <tr>\n      <th>2012-01-27</th>\n      <td>305785.47</td>\n      <td>NaN</td>\n      <td>3176.37</td>\n      <td>368441.82</td>\n    </tr>\n    <tr>\n      <th>2012-01-28</th>\n      <td>235492.85</td>\n      <td>NaN</td>\n      <td>175.00</td>\n      <td>82775.80</td>\n    </tr>\n    <tr>\n      <th>2012-01-29</th>\n      <td>93177.00</td>\n      <td>NaN</td>\n      <td>200.00</td>\n      <td>75220.02</td>\n    </tr>\n    <tr>\n      <th>2012-01-30</th>\n      <td>435921.72</td>\n      <td>NaN</td>\n      <td>130.00</td>\n      <td>255204.80</td>\n    </tr>\n    <tr>\n      <th>2012-01-31</th>\n      <td>1418410.31</td>\n      <td>NaN</td>\n      <td>150.00</td>\n      <td>869890.41</td>\n    </tr>\n  </tbody>\n</table>\n<p>376 rows × 4 columns</p>\n</div>"
     },
     "metadata": {},
     "output_type": "execute_result",
     "execution_count": 34
    }
   ],
   "source": [
    "by_date.unstack('party')   # Indexes are dates. Columns are political parties."
   ]
  },
  {
   "cell_type": "code",
   "execution_count": 35,
   "metadata": {
    "pycharm": {
     "is_executing": false
    }
   },
   "outputs": [
    {
     "data": {
      "text/plain": "<matplotlib.axes._subplots.AxesSubplot at 0x2398ff1b788>"
     },
     "metadata": {},
     "output_type": "execute_result",
     "execution_count": 35
    },
    {
     "data": {
      "text/plain": "<Figure size 432x288 with 1 Axes>",
      "image/png": "[encoded data removed]"
     },
     "metadata": {
      "needs_background": "light"
     },
     "output_type": "display_data"
    }
   ],
   "source": [
    "by_date.unstack('party').cumsum().plot()"
   ]
  },
  {
   "cell_type": "code",
   "execution_count": 36,
   "metadata": {
    "pycharm": {
     "is_executing": false
    }
   },
   "outputs": [],
   "source": [
    "s = by_date.unstack('party')[-5:].stack()"
   ]
  },
  {
   "cell_type": "code",
   "execution_count": 37,
   "metadata": {
    "pycharm": {
     "is_executing": false
    }
   },
   "outputs": [
    {
     "data": {
      "text/plain": "contb_receipt_dt  party     \n2012-01-27        Democrat       305785.47\n                  Reform           3176.37\n                  Republican     368441.82\n2012-01-28        Democrat       235492.85\n                  Reform            175.00\n                  Republican      82775.80\n2012-01-29        Democrat        93177.00\n                  Reform            200.00\n                  Republican      75220.02\n2012-01-30        Democrat       435921.72\n                  Reform            130.00\n                  Republican     255204.80\n2012-01-31        Democrat      1418410.31\n                  Reform            150.00\n                  Republican     869890.41\ndtype: float64"
     },
     "metadata": {},
     "output_type": "execute_result",
     "execution_count": 37
    }
   ],
   "source": [
    "s    # Note the inner level indexes. Not every date has 3 parties. Top level indexes are dates. stack() makes 1 dimensional.\n",
    "     # Labels propagated down for all 3 observations: political parties."
   ]
  },
  {
   "cell_type": "code",
   "execution_count": 38,
   "metadata": {
    "pycharm": {
     "is_executing": false
    }
   },
   "outputs": [
    {
     "data": {
      "text/plain": "party               Democrat   Reform  Republican\ncontb_receipt_dt                                 \n2012-01-27         305785.47  3176.37   368441.82\n2012-01-28         235492.85   175.00    82775.80\n2012-01-29          93177.00   200.00    75220.02\n2012-01-30         435921.72   130.00   255204.80\n2012-01-31        1418410.31   150.00   869890.41"
     },
     "metadata": {},
     "output_type": "execute_result",
     "execution_count": 38
    }
   ],
   "source": [
    "pandas.set_option('display.notebook_repr_html', False)  # turn off html, i.e., without table.\n",
    "s.unstack()    # unstack() 2 dimensional. "
   ]
  },
  {
   "cell_type": "code",
   "execution_count": 39,
   "metadata": {
    "pycharm": {
     "is_executing": false
    }
   },
   "outputs": [
    {
     "data": {
      "text/plain": "contb_receipt_dt  party     \n2012-01-27        Democrat       305785.47\n                  Reform           3176.37\n                  Republican     368441.82\n2012-01-28        Democrat       235492.85\n                  Reform            175.00\n                  Republican      82775.80\n2012-01-29        Democrat        93177.00\n                  Reform            200.00\n                  Republican      75220.02\n2012-01-30        Democrat       435921.72\n                  Reform            130.00\n                  Republican     255204.80\n2012-01-31        Democrat      1418410.31\n                  Reform            150.00\n                  Republican     869890.41\ndtype: float64"
     },
     "metadata": {},
     "output_type": "execute_result",
     "execution_count": 39
    }
   ],
   "source": [
    "s.unstack().stack()  # 2 dimensional to 1 dimensional"
   ]
  },
  {
   "cell_type": "code",
   "execution_count": 40,
   "metadata": {
    "pycharm": {
     "is_executing": false
    }
   },
   "outputs": [],
   "source": [
    "df = s.unstack('party')   # data frame"
   ]
  },
  {
   "cell_type": "code",
   "execution_count": 41,
   "metadata": {
    "pycharm": {
     "is_executing": false
    }
   },
   "outputs": [
    {
     "data": {
      "text/plain": "contb_receipt_dt  2012-01-27  2012-01-28  2012-01-29  2012-01-30  2012-01-31\nparty                                                                       \nDemocrat           305785.47   235492.85    93177.00   435921.72  1418410.31\nReform               3176.37      175.00      200.00      130.00      150.00\nRepublican         368441.82    82775.80    75220.02   255204.80   869890.41"
     },
     "metadata": {},
     "output_type": "execute_result",
     "execution_count": 41
    }
   ],
   "source": [
    "s.unstack('contb_receipt_dt')"
   ]
  },
  {
   "cell_type": "code",
   "execution_count": 42,
   "metadata": {
    "pycharm": {
     "is_executing": false
    }
   },
   "outputs": [
    {
     "data": {
      "text/plain": "                           A                               B           \\\nparty               Democrat   Reform Republican    Democrat   Reform   \ncontb_receipt_dt                                                        \n2012-01-27         305785.47  3176.37  368441.82   305785.47  3176.37   \n2012-01-28         235492.85   175.00   82775.80   235492.85   175.00   \n2012-01-29          93177.00   200.00   75220.02    93177.00   200.00   \n2012-01-30         435921.72   130.00  255204.80   435921.72   130.00   \n2012-01-31        1418410.31   150.00  869890.41  1418410.31   150.00   \n\n                             \nparty            Republican  \ncontb_receipt_dt             \n2012-01-27        368441.82  \n2012-01-28         82775.80  \n2012-01-29         75220.02  \n2012-01-30        255204.80  \n2012-01-31        869890.41  "
     },
     "metadata": {},
     "output_type": "execute_result",
     "execution_count": 42
    }
   ],
   "source": [
    "concat([df, df], axis=1, keys=['A', 'B'])  # join 2 copies of data frame.\n",
    "                                           # standard hierarchical indexing stuff."
   ]
  },
  {
   "cell_type": "code",
   "execution_count": 43,
   "metadata": {
    "pycharm": {
     "is_executing": false
    }
   },
   "outputs": [
    {
     "data": {
      "text/plain": "party               Democrat   Reform  Republican\ncontb_receipt_dt                                 \n2012-01-27         305785.47  3176.37   368441.82\n2012-01-28         235492.85   175.00    82775.80\n2012-01-29          93177.00   200.00    75220.02\n2012-01-30         435921.72   130.00   255204.80\n2012-01-31        1418410.31   150.00   869890.41"
     },
     "metadata": {},
     "output_type": "execute_result",
     "execution_count": 43
    }
   ],
   "source": [
    "concat([df, df], axis=1, keys=['A', 'B'])['A']   # select out columns by the first key 'A'. Or select out the 'B' group.conc"
   ]
  },
  {
   "cell_type": "code",
   "execution_count": 44,
   "metadata": {
    "pycharm": {
     "is_executing": false
    }
   },
   "outputs": [
    {
     "data": {
      "text/plain": "                                      A           B\ncontb_receipt_dt party                             \n2012-01-27       Democrat     305785.47   305785.47\n                 Reform         3176.37     3176.37\n                 Republican   368441.82   368441.82\n2012-01-28       Democrat     235492.85   235492.85\n                 Reform          175.00      175.00\n                 Republican    82775.80    82775.80\n2012-01-29       Democrat      93177.00    93177.00\n                 Reform          200.00      200.00\n                 Republican    75220.02    75220.02\n2012-01-30       Democrat     435921.72   435921.72\n                 Reform          130.00      130.00\n                 Republican   255204.80   255204.80\n2012-01-31       Democrat    1418410.31  1418410.31\n                 Reform          150.00      150.00\n                 Republican   869890.41   869890.41"
     },
     "metadata": {},
     "output_type": "execute_result",
     "execution_count": 44
    }
   ],
   "source": [
    "concat([df, df], axis=1, keys=['A', 'B']).stack('party')"
   ]
  },
  {
   "cell_type": "code",
   "execution_count": 45,
   "metadata": {
    "pycharm": {
     "is_executing": false
    }
   },
   "outputs": [
    {
     "data": {
      "text/plain": "party                 Democrat   Reform  Republican\ncontb_receipt_dt                                   \n2012-01-27       A   305785.47  3176.37   368441.82\n                 B   305785.47  3176.37   368441.82\n2012-01-28       A   235492.85   175.00    82775.80\n                 B   235492.85   175.00    82775.80\n2012-01-29       A    93177.00   200.00    75220.02\n                 B    93177.00   200.00    75220.02\n2012-01-30       A   435921.72   130.00   255204.80\n                 B   435921.72   130.00   255204.80\n2012-01-31       A  1418410.31   150.00   869890.41\n                 B  1418410.31   150.00   869890.41"
     },
     "metadata": {},
     "output_type": "execute_result",
     "execution_count": 45
    }
   ],
   "source": [
    "concat([df, df], axis=1, keys=['A', 'B']).stack(0)  # The group indexes have no labels."
   ]
  },
  {
   "cell_type": "code",
   "execution_count": 46,
   "metadata": {
    "pycharm": {
     "is_executing": false
    }
   },
   "outputs": [],
   "source": [
    "result = fec.groupby(['cand_nm', 'contbr_occupation'])['contb_receipt_amt'].sum()   # Top contributors to candidates by occupation."
   ]
  },
  {
   "cell_type": "code",
   "execution_count": 47,
   "metadata": {
    "pycharm": {
     "is_executing": false
    }
   },
   "outputs": [
    {
     "data": {
      "text/plain": "cand_nm             contbr_occupation             \nBachmann, Michelle  100% DISABLED VETERAN             1869.50\n                    100% DISABLED VIETNAM VETERAN      236.25\n                    A/C AND HEAT                       250.00\n                    ACADEMIC EMPLOYMENT SPECIALIST      25.00\n                    ACCOUNT                             50.00\n                                                       ...   \nSantorum, Rick      WRITER EDITOR                      250.00\n                    WRITER/ACCOUNT EXEC                500.00\n                    WRITER/JOURNALIST                  250.00\n                    WRITER/LAWYER                      300.00\n                    YOUTH MINISTER                     250.00\nName: contb_receipt_amt, Length: 40161, dtype: float64"
     },
     "metadata": {},
     "output_type": "execute_result",
     "execution_count": 47
    }
   ],
   "source": [
    "result  # is a data frame instead of series."
   ]
  },
  {
   "cell_type": "code",
   "execution_count": 48,
   "metadata": {
    "pycharm": {
     "is_executing": false
    }
   },
   "outputs": [
    {
     "data": {
      "text/plain": "cand_nm\nPaul, Ron    1556.0\nName: contb_receipt_amt, dtype: float64"
     },
     "metadata": {},
     "output_type": "execute_result",
     "execution_count": 48
    }
   ],
   "source": [
    "result[:, 'ZOMBIE SLAYER']"
   ]
  },
  {
   "cell_type": "code",
   "execution_count": 49,
   "metadata": {
    "pycharm": {
     "is_executing": false
    }
   },
   "outputs": [],
   "source": [
    "result = fec.groupby(['cand_nm', 'contbr_occupation']).sum()  # When doing this aggregation, we don't need to select the columns as above.\n",
    "# There are columns that are not possible to sum. The code actually tries to sum them all: nuisance columns. Whenever it fails, it just silently drops them out."
   ]
  },
  {
   "cell_type": "code",
   "execution_count": 50,
   "metadata": {
    "pycharm": {
     "is_executing": false
    }
   },
   "outputs": [],
   "source": [
    "result = result.reset_index()  # opposite of set_index(). Took 'cand_nm' and 'contbr_occupation' and set them as col indexes again, so that the indexes are just simple integer indexes."
   ]
  },
  {
   "cell_type": "code",
   "execution_count": 51,
   "metadata": {
    "pycharm": {
     "is_executing": false
    }
   },
   "outputs": [
    {
     "data": {
      "text/plain": "                  cand_nm               contbr_occupation  contb_receipt_amt  \\\n0      Bachmann, Michelle           100% DISABLED VETERAN            1869.50   \n1      Bachmann, Michelle   100% DISABLED VIETNAM VETERAN             236.25   \n2      Bachmann, Michelle                    A/C AND HEAT             250.00   \n3      Bachmann, Michelle  ACADEMIC EMPLOYMENT SPECIALIST              25.00   \n4      Bachmann, Michelle                         ACCOUNT              50.00   \n...                   ...                             ...                ...   \n40156      Santorum, Rick                   WRITER EDITOR             250.00   \n40157      Santorum, Rick             WRITER/ACCOUNT EXEC             500.00   \n40158      Santorum, Rick               WRITER/JOURNALIST             250.00   \n40159      Santorum, Rick                   WRITER/LAWYER             300.00   \n40160      Santorum, Rick                  YOUTH MINISTER             250.00   \n\n       file_num  \n0       6807894  \n1       2260398  \n2        749016  \n3        762366  \n4        762366  \n...         ...  \n40156   2301387  \n40157    763229  \n40158    767129  \n40159    767129  \n40160    767129  \n\n[40161 rows x 4 columns]"
     },
     "metadata": {},
     "output_type": "execute_result",
     "execution_count": 51
    }
   ],
   "source": [
    "result"
   ]
  },
  {
   "cell_type": "code",
   "execution_count": 52,
   "metadata": {
    "pycharm": {
     "is_executing": false
    }
   },
   "outputs": [
    {
     "name": "stderr",
     "text": [
      "D:\\Users\\cduon\\Anaconda3\\lib\\site-packages\\ipykernel_launcher.py:5: FutureWarning: by argument to sort_index is deprecated, please use .sort_values(by=...)\n",
      "  \"\"\"\n"
     ],
     "output_type": "stream"
    },
    {
     "data": {
      "text/plain": "                                     cand_nm  \\\ncand_nm                                        \nBachmann, Michelle 920    Bachmann, Michelle   \n                   892    Bachmann, Michelle   \n                   555    Bachmann, Michelle   \n                   594    Bachmann, Michelle   \n                   1058   Bachmann, Michelle   \n...                                      ...   \nSantorum, Rick     38856      Santorum, Rick   \n                   39180      Santorum, Rick   \n                   39341      Santorum, Rick   \n                   39305      Santorum, Rick   \n                   39812      Santorum, Rick   \n\n                                             contbr_occupation  \\\ncand_nm                                                          \nBachmann, Michelle 920                               PRESIDENT   \n                   892                               PHYSICIAN   \n                   555                               HOMEMAKER   \n                   594                   INFORMATION REQUESTED   \n                   1058                                RETIRED   \n...                                                        ...   \nSantorum, Rick     38856                              ATTORNEY   \n                   39180                             EXECUTIVE   \n                   39341  INFORMATION REQUESTED (BEST EFFORTS)   \n                   39305                             HOMEMAKER   \n                   39812                               RETIRED   \n\n                          contb_receipt_amt    file_num  \ncand_nm                                                  \nBachmann, Michelle 920             68781.00    95289630  \n                   892             76134.00   198136204  \n                   555            102540.00   237509004  \n                   594            147638.89   835457555  \n                   1058           824618.05  3260564234  \n...                                     ...         ...  \nSantorum, Rick     38856          107130.00   189114568  \n                   39180          131456.55   106279150  \n                   39341          284718.10   502656827  \n                   39305          350597.75   502312893  \n                   39812          421952.98  1341605527  \n\n[65 rows x 4 columns]"
     },
     "metadata": {},
     "output_type": "execute_result",
     "execution_count": 52
    }
   ],
   "source": [
    "# We have so far aggregated total amount donated to each political party by occupation (the first groupby).\n",
    "# Additional groupby let us split them up by candidate, sort them in descending order by total amount donated and take the top 5.\n",
    "pandas.set_option('display.notebook_repr_html', False)\n",
    "def top5_donors(group):\n",
    "    return group.sort_index(by='contb_receipt_amt')[-5:]\n",
    "# top5_donors(result)\n",
    "result.groupby('cand_nm').apply(top5_donors)   # The retired donated the most to Barack Obama."
   ]
  },
  {
   "cell_type": "code",
   "execution_count": 53,
   "metadata": {
    "pycharm": {
     "is_executing": false
    }
   },
   "outputs": [
    {
     "data": {
      "text/plain": "BlockManager\nItems: Index(['Democrat', 'Reform', 'Republican'], dtype='object', name='party')\nAxis 1: DatetimeIndex(['2012-01-27', '2012-01-28', '2012-01-29', '2012-01-30',\n               '2012-01-31'],\n              dtype='datetime64[ns]', name='contb_receipt_dt', freq=None)\nFloatBlock: slice(0, 3, 1), 3 x 5, dtype: float64"
     },
     "metadata": {},
     "output_type": "execute_result",
     "execution_count": 53
    }
   ],
   "source": [
    "df._data   # Internal data structure. The back data frame. Having hierarchical indexing medicates a lot of the need for higher dimensional objects (because they're very sparse)."
   ]
  },
  {
   "cell_type": "code",
   "execution_count": 54,
   "metadata": {
    "pycharm": {
     "is_executing": false
    }
   },
   "outputs": [],
   "source": [
    "# Time Series for financial data will be improved next."
   ]
  }
 ],
 "metadata": {
  "kernelspec": {
   "display_name": "Python 3",
   "language": "python",
   "name": "python3"
  },
  "language_info": {
   "codemirror_mode": {
    "name": "ipython",
    "version": 3
   },
   "file_extension": ".py",
   "mimetype": "text/x-python",
   "name": "python",
   "nbconvert_exporter": "python",
   "pygments_lexer": "ipython3",
   "version": "3.7.5"
  },
  "pycharm": {
   "stem_cell": {
    "cell_type": "raw",
    "source": [],
    "metadata": {
     "collapsed": false
    }
   }
  }
 },
 "nbformat": 4,
 "nbformat_minor": 1
}